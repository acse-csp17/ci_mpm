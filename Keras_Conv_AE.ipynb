{
  "cells": [
    {
      "cell_type": "markdown",
      "metadata": {
        "id": "view-in-github",
        "colab_type": "text"
      },
      "source": [
        "<a href=\"https://colab.research.google.com/github/acse-csp17/ci_mpm/blob/master/Keras_Conv_AE.ipynb\" target=\"_parent\"><img src=\"https://colab.research.google.com/assets/colab-badge.svg\" alt=\"Open In Colab\"/></a>"
      ]
    },
    {
      "cell_type": "markdown",
      "metadata": {
        "id": "a160c7f3"
      },
      "source": [
        "# complex version cnn"
      ],
      "id": "a160c7f3"
    },
    {
      "cell_type": "code",
      "execution_count": null,
      "metadata": {
        "colab": {
          "base_uri": "https://localhost:8080/",
          "height": 1000
        },
        "id": "HYTFqInwumPb",
        "outputId": "88836b8f-a8d5-4f45-9646-05bdb8bec42d"
      },
      "outputs": [
        {
          "name": "stdout",
          "output_type": "stream",
          "text": [
            "Looking in indexes: https://pypi.org/simple, https://us-python.pkg.dev/colab-wheels/public/simple/\n",
            "Collecting livelossplot\n",
            "  Downloading livelossplot-0.5.5-py3-none-any.whl (22 kB)\n",
            "Collecting ipython==7.*\n",
            "  Downloading ipython-7.33.0-py3-none-any.whl (793 kB)\n",
            "\u001b[K     |████████████████████████████████| 793 kB 19.4 MB/s \n",
            "\u001b[?25hRequirement already satisfied: matplotlib in /usr/local/lib/python3.7/dist-packages (from livelossplot) (3.2.2)\n",
            "Requirement already satisfied: numpy<1.22 in /usr/local/lib/python3.7/dist-packages (from livelossplot) (1.21.6)\n",
            "Requirement already satisfied: bokeh in /usr/local/lib/python3.7/dist-packages (from livelossplot) (2.3.3)\n",
            "Requirement already satisfied: pexpect>4.3 in /usr/local/lib/python3.7/dist-packages (from ipython==7.*->livelossplot) (4.8.0)\n",
            "Requirement already satisfied: jedi>=0.16 in /usr/local/lib/python3.7/dist-packages (from ipython==7.*->livelossplot) (0.18.1)\n",
            "Requirement already satisfied: traitlets>=4.2 in /usr/local/lib/python3.7/dist-packages (from ipython==7.*->livelossplot) (5.1.1)\n",
            "Collecting prompt-toolkit!=3.0.0,!=3.0.1,<3.1.0,>=2.0.0\n",
            "  Downloading prompt_toolkit-3.0.29-py3-none-any.whl (381 kB)\n",
            "\u001b[K     |████████████████████████████████| 381 kB 99.0 MB/s \n",
            "\u001b[?25hRequirement already satisfied: decorator in /usr/local/lib/python3.7/dist-packages (from ipython==7.*->livelossplot) (4.4.2)\n",
            "Requirement already satisfied: setuptools>=18.5 in /usr/local/lib/python3.7/dist-packages (from ipython==7.*->livelossplot) (57.4.0)\n",
            "Requirement already satisfied: pygments in /usr/local/lib/python3.7/dist-packages (from ipython==7.*->livelossplot) (2.6.1)\n",
            "Requirement already satisfied: pickleshare in /usr/local/lib/python3.7/dist-packages (from ipython==7.*->livelossplot) (0.7.5)\n",
            "Requirement already satisfied: backcall in /usr/local/lib/python3.7/dist-packages (from ipython==7.*->livelossplot) (0.2.0)\n",
            "Requirement already satisfied: matplotlib-inline in /usr/local/lib/python3.7/dist-packages (from ipython==7.*->livelossplot) (0.1.3)\n",
            "Requirement already satisfied: parso<0.9.0,>=0.8.0 in /usr/local/lib/python3.7/dist-packages (from jedi>=0.16->ipython==7.*->livelossplot) (0.8.3)\n",
            "Requirement already satisfied: ptyprocess>=0.5 in /usr/local/lib/python3.7/dist-packages (from pexpect>4.3->ipython==7.*->livelossplot) (0.7.0)\n",
            "Requirement already satisfied: wcwidth in /usr/local/lib/python3.7/dist-packages (from prompt-toolkit!=3.0.0,!=3.0.1,<3.1.0,>=2.0.0->ipython==7.*->livelossplot) (0.2.5)\n",
            "Requirement already satisfied: Jinja2>=2.9 in /usr/local/lib/python3.7/dist-packages (from bokeh->livelossplot) (2.11.3)\n",
            "Requirement already satisfied: python-dateutil>=2.1 in /usr/local/lib/python3.7/dist-packages (from bokeh->livelossplot) (2.8.2)\n",
            "Requirement already satisfied: tornado>=5.1 in /usr/local/lib/python3.7/dist-packages (from bokeh->livelossplot) (5.1.1)\n",
            "Requirement already satisfied: PyYAML>=3.10 in /usr/local/lib/python3.7/dist-packages (from bokeh->livelossplot) (3.13)\n",
            "Requirement already satisfied: packaging>=16.8 in /usr/local/lib/python3.7/dist-packages (from bokeh->livelossplot) (21.3)\n",
            "Requirement already satisfied: typing-extensions>=3.7.4 in /usr/local/lib/python3.7/dist-packages (from bokeh->livelossplot) (4.2.0)\n",
            "Requirement already satisfied: pillow>=7.1.0 in /usr/local/lib/python3.7/dist-packages (from bokeh->livelossplot) (7.1.2)\n",
            "Requirement already satisfied: MarkupSafe>=0.23 in /usr/local/lib/python3.7/dist-packages (from Jinja2>=2.9->bokeh->livelossplot) (2.0.1)\n",
            "Requirement already satisfied: pyparsing!=3.0.5,>=2.0.2 in /usr/local/lib/python3.7/dist-packages (from packaging>=16.8->bokeh->livelossplot) (3.0.9)\n",
            "Requirement already satisfied: six>=1.5 in /usr/local/lib/python3.7/dist-packages (from python-dateutil>=2.1->bokeh->livelossplot) (1.15.0)\n",
            "Requirement already satisfied: kiwisolver>=1.0.1 in /usr/local/lib/python3.7/dist-packages (from matplotlib->livelossplot) (1.4.2)\n",
            "Requirement already satisfied: cycler>=0.10 in /usr/local/lib/python3.7/dist-packages (from matplotlib->livelossplot) (0.11.0)\n",
            "Installing collected packages: prompt-toolkit, ipython, livelossplot\n",
            "  Attempting uninstall: prompt-toolkit\n",
            "    Found existing installation: prompt-toolkit 1.0.18\n",
            "    Uninstalling prompt-toolkit-1.0.18:\n",
            "      Successfully uninstalled prompt-toolkit-1.0.18\n",
            "  Attempting uninstall: ipython\n",
            "    Found existing installation: ipython 5.5.0\n",
            "    Uninstalling ipython-5.5.0:\n",
            "      Successfully uninstalled ipython-5.5.0\n",
            "\u001b[31mERROR: pip's dependency resolver does not currently take into account all the packages that are installed. This behaviour is the source of the following dependency conflicts.\n",
            "jupyter-console 5.2.0 requires prompt-toolkit<2.0.0,>=1.0.0, but you have prompt-toolkit 3.0.29 which is incompatible.\n",
            "google-colab 1.0.0 requires ipython~=5.5.0, but you have ipython 7.33.0 which is incompatible.\u001b[0m\n",
            "Successfully installed ipython-7.33.0 livelossplot-0.5.5 prompt-toolkit-3.0.29\n"
          ]
        },
        {
          "data": {
            "application/vnd.colab-display-data+json": {
              "pip_warning": {
                "packages": [
                  "IPython",
                  "prompt_toolkit"
                ]
              }
            }
          },
          "metadata": {},
          "output_type": "display_data"
        },
        {
          "name": "stdout",
          "output_type": "stream",
          "text": [
            "Looking in indexes: https://pypi.org/simple, https://us-python.pkg.dev/colab-wheels/public/simple/\n",
            "Collecting radiant_mlhub\n",
            "  Downloading radiant_mlhub-0.4.1-py3-none-any.whl (36 kB)\n",
            "Collecting pystac~=1.1\n",
            "  Downloading pystac-1.4.0-py3-none-any.whl (137 kB)\n",
            "\u001b[K     |████████████████████████████████| 137 kB 23.4 MB/s \n",
            "\u001b[?25hRequirement already satisfied: typing-extensions>=3.7 in /usr/local/lib/python3.7/dist-packages (from radiant_mlhub) (4.2.0)\n",
            "Requirement already satisfied: tqdm~=4.56 in /usr/local/lib/python3.7/dist-packages (from radiant_mlhub) (4.64.0)\n",
            "Requirement already satisfied: click<9.0.0,>=7.1.2 in /usr/local/lib/python3.7/dist-packages (from radiant_mlhub) (7.1.2)\n",
            "Collecting requests~=2.25\n",
            "  Downloading requests-2.27.1-py2.py3-none-any.whl (63 kB)\n",
            "\u001b[K     |████████████████████████████████| 63 kB 1.7 MB/s \n",
            "\u001b[?25hRequirement already satisfied: python-dateutil>=2.7.0 in /usr/local/lib/python3.7/dist-packages (from pystac~=1.1->radiant_mlhub) (2.8.2)\n",
            "Requirement already satisfied: six>=1.5 in /usr/local/lib/python3.7/dist-packages (from python-dateutil>=2.7.0->pystac~=1.1->radiant_mlhub) (1.15.0)\n",
            "Requirement already satisfied: urllib3<1.27,>=1.21.1 in /usr/local/lib/python3.7/dist-packages (from requests~=2.25->radiant_mlhub) (1.24.3)\n",
            "Requirement already satisfied: idna<4,>=2.5 in /usr/local/lib/python3.7/dist-packages (from requests~=2.25->radiant_mlhub) (2.10)\n",
            "Requirement already satisfied: charset-normalizer~=2.0.0 in /usr/local/lib/python3.7/dist-packages (from requests~=2.25->radiant_mlhub) (2.0.12)\n",
            "Requirement already satisfied: certifi>=2017.4.17 in /usr/local/lib/python3.7/dist-packages (from requests~=2.25->radiant_mlhub) (2022.5.18.1)\n",
            "Installing collected packages: requests, pystac, radiant-mlhub\n",
            "  Attempting uninstall: requests\n",
            "    Found existing installation: requests 2.23.0\n",
            "    Uninstalling requests-2.23.0:\n",
            "      Successfully uninstalled requests-2.23.0\n",
            "\u001b[31mERROR: pip's dependency resolver does not currently take into account all the packages that are installed. This behaviour is the source of the following dependency conflicts.\n",
            "google-colab 1.0.0 requires ipython~=5.5.0, but you have ipython 7.33.0 which is incompatible.\n",
            "google-colab 1.0.0 requires requests~=2.23.0, but you have requests 2.27.1 which is incompatible.\n",
            "datascience 0.10.6 requires folium==0.2.1, but you have folium 0.8.3 which is incompatible.\u001b[0m\n",
            "Successfully installed pystac-1.4.0 radiant-mlhub-0.4.1 requests-2.27.1\n"
          ]
        },
        {
          "data": {
            "application/vnd.colab-display-data+json": {
              "pip_warning": {
                "packages": [
                  "requests"
                ]
              }
            }
          },
          "metadata": {},
          "output_type": "display_data"
        }
      ],
      "source": [
        "!pip install livelossplot \n",
        "!pip install radiant_mlhub"
      ],
      "id": "HYTFqInwumPb"
    },
    {
      "cell_type": "code",
      "execution_count": null,
      "metadata": {
        "id": "08495956"
      },
      "outputs": [],
      "source": [
        "# Scikit-Learn ≥0.20 is required\n",
        "import sklearn\n",
        "assert sklearn.__version__ >= \"0.20\"\n",
        "\n",
        "# TensorFlow ≥2.0 is required\n",
        "import tensorflow as tf\n",
        "from tensorflow import keras\n",
        "assert tf.__version__ >= \"2.0\"\n",
        "\n",
        "# Common imports\n",
        "import numpy as np\n",
        "import pandas as pd\n",
        "import pickle\n",
        "from pathlib import Path\n",
        "import datetime, time\n",
        "import os\n",
        "import glob\n",
        "\n",
        "import matplotlib.pyplot as plt\n",
        "%matplotlib inline \n",
        "from sklearn.metrics import mean_squared_error"
      ],
      "id": "08495956"
    },
    {
      "cell_type": "code",
      "execution_count": null,
      "metadata": {
        "colab": {
          "base_uri": "https://localhost:8080/"
        },
        "id": "gEp5A7XcuYHB",
        "outputId": "6353bce8-2c6f-4313-e10f-89a6b916d257"
      },
      "outputs": [
        {
          "name": "stdout",
          "output_type": "stream",
          "text": [
            "Mounted at /content/drive\n"
          ]
        }
      ],
      "source": [
        "from google.colab import drive\n",
        "drive.mount('/content/drive')"
      ],
      "id": "gEp5A7XcuYHB"
    },
    {
      "cell_type": "code",
      "execution_count": null,
      "metadata": {
        "colab": {
          "base_uri": "https://localhost:8080/"
        },
        "id": "R5vWFilqubvj",
        "outputId": "3e57ded0-85ce-46d1-b5f7-9aa84a39c178"
      },
      "outputs": [
        {
          "name": "stdout",
          "output_type": "stream",
          "text": [
            "Cuda installed! Running on GPU!\n"
          ]
        }
      ],
      "source": [
        "import json\n",
        "import re\n",
        "from glob import glob\n",
        "import tarfile\n",
        "\n",
        "import numpy as np\n",
        "import pandas as pd\n",
        "import matplotlib.pyplot as plt\n",
        "\n",
        "from pathlib import Path\n",
        "from radiant_mlhub import Dataset, Collection, client\n",
        "\n",
        "from sklearn.metrics import accuracy_score\n",
        "from sklearn.model_selection import StratifiedShuffleSplit\n",
        "\n",
        "from livelossplot import PlotLosses\n",
        "\n",
        "import torch\n",
        "import torch.nn as nn\n",
        "import torch.nn.functional as F\n",
        "from torch.autograd import Variable\n",
        "from torch.utils.data import TensorDataset, DataLoader\n",
        "import torchvision.transforms as transforms\n",
        "from PIL import Image as pil_image\n",
        "\n",
        "device = 'cpu'\n",
        "if torch.cuda.device_count() > 0 and torch.cuda.is_available():\n",
        "    print(\"Cuda installed! Running on GPU!\")\n",
        "    device = 'cuda'\n",
        "else:\n",
        "    print(\"No GPU available!\")"
      ],
      "id": "R5vWFilqubvj"
    },
    {
      "cell_type": "code",
      "execution_count": null,
      "metadata": {
        "id": "SH0ASrvyub3I"
      },
      "outputs": [],
      "source": [
        "import os\n",
        "\n",
        "os.environ['MLHUB_API_KEY'] = 'b30b535bc53552671bec10fed8281299722f8276fb9d69e6511ff5ef44d89f31'\n",
        "# downloading assets as done in tutorial notebook\n",
        "download_dir = Path('~/Downloads').expanduser().resolve()\n",
        "\n",
        "dataset = Dataset.fetch('nasa_tropical_storm_competition')"
      ],
      "id": "SH0ASrvyub3I"
    },
    {
      "cell_type": "code",
      "execution_count": null,
      "metadata": {
        "colab": {
          "base_uri": "https://localhost:8080/",
          "height": 232,
          "referenced_widgets": [
            "a6597901f5104edcbfefbf80c05dd7df",
            "ec28e8d0792545b3b01a4d022a1f1a1d",
            "7e3d6678a74c42cfa2a8f83bfb76b29a",
            "bd74c7b52e274799aaa51438fba9de08",
            "2224b1b3209549009b60b2ff257ed989",
            "63f5b105e88d477eb33220999eb15e23",
            "9329ea0cf29d4061848b3b66e7cc7beb",
            "b97572c4aa7c4b1481f78d58fb046ead",
            "81f6536ecde74033aa11e8c8f94b3c94",
            "2dc2eea426834ea0bc5d2bbbf1edea8f",
            "c2142f190fe849d592ff5095d93bb451",
            "4de55328db4f40178a14d4a0da4a3d77",
            "80eacf1809da4b408799cd9169ee01c6",
            "71e1b00d6b5640ec8833f28f7cf38a4e",
            "aa347e01c53f4851867fc5454b3468de",
            "a1c9d75add7344b5a9c5ed2d5299f0f2",
            "dbbef43c8e014f9bb4da40f4f8afb153",
            "2a70ae1862a44e0aa3c9943d0fdea5a0",
            "ba0455d248b64371a47f123a6a2a335a",
            "a80961827b0c4332989d78eeaac77807",
            "87339fcdae394fdbacc4c94079cb5fd0",
            "6344cde318b842999307b258a35a6abb",
            "0b13c461c29f42fe908968b98fd5674e",
            "28270b5502da42ba9b09e3cfea6e6fad",
            "f4326a8fb13f485aad64d75ae661e75a",
            "6057ba5123b74fcdbfdb6ca94a22414e",
            "d14155694bdb45b7b20cb933689e436a",
            "14125b649ee5451b8902cb80c0345f92",
            "914dfb04897b4e94abdd8bb14f1f40c4",
            "3cd6902372a2411f827f7032ac1add8f",
            "2a9c00bed2874baca827a9517ffda29c",
            "caa3d867b1a54103bee65be9e8eed083",
            "9222e6bbfdaa4e6798fe7aa0b079491c",
            "a4424c0277f0422a9cb04915a3c4b322",
            "9a2b6e054f3e450b80b899a3e6ca7054",
            "5422e24be8df4603995a2f01373978c4",
            "959cbcb179fd49eca986506c672dbbb7",
            "521d5b35b0074fa2a03b7db2c675f087",
            "d8264a9fcd2b4ef4894fe4078bace184",
            "61d7a65dad4a435eadc74b0bd764805b",
            "862855018c444c52ac47589c13440dd6",
            "6cc6808fb70e4b65b73eb0957c718d0d",
            "bc0f858e12b2481e9beba5dd71143c55",
            "f3dc0d62888a42a18ab7f12bc6fa8eb2"
          ]
        },
        "id": "HgwiAJL3ub8e",
        "outputId": "a7827cf9-b43d-41de-8894-bcd7f075ad71"
      },
      "outputs": [
        {
          "data": {
            "application/vnd.jupyter.widget-view+json": {
              "model_id": "a6597901f5104edcbfefbf80c05dd7df",
              "version_major": 2,
              "version_minor": 0
            },
            "text/plain": [
              "  0%|          | 0/1446.5 [00:00<?, ?M/s]"
            ]
          },
          "metadata": {},
          "output_type": "display_data"
        },
        {
          "data": {
            "application/vnd.jupyter.widget-view+json": {
              "model_id": "4de55328db4f40178a14d4a0da4a3d77",
              "version_major": 2,
              "version_minor": 0
            },
            "text/plain": [
              "  0%|          | 0/918.3 [00:00<?, ?M/s]"
            ]
          },
          "metadata": {},
          "output_type": "display_data"
        },
        {
          "data": {
            "application/vnd.jupyter.widget-view+json": {
              "model_id": "0b13c461c29f42fe908968b98fd5674e",
              "version_major": 2,
              "version_minor": 0
            },
            "text/plain": [
              "  0%|          | 0/7.5 [00:00<?, ?M/s]"
            ]
          },
          "metadata": {},
          "output_type": "display_data"
        },
        {
          "data": {
            "application/vnd.jupyter.widget-view+json": {
              "model_id": "a4424c0277f0422a9cb04915a3c4b322",
              "version_major": 2,
              "version_minor": 0
            },
            "text/plain": [
              "  0%|          | 0/4.6 [00:00<?, ?M/s]"
            ]
          },
          "metadata": {},
          "output_type": "display_data"
        },
        {
          "name": "stdout",
          "output_type": "stream",
          "text": [
            "Extracting /root/Downloads/nasa_tropical_storm_competition_train_source.tar.gz...\n",
            "Extracting /root/Downloads/nasa_tropical_storm_competition_test_source.tar.gz...\n",
            "Extracting /root/Downloads/nasa_tropical_storm_competition_train_labels.tar.gz...\n",
            "Extracting /root/Downloads/nasa_tropical_storm_competition_test_labels.tar.gz...\n",
            "Done\n"
          ]
        }
      ],
      "source": [
        "archive_paths = dataset.download(output_dir=download_dir)\n",
        "\n",
        "for archive_path in archive_paths:\n",
        "    print(f'Extracting {archive_path}...')\n",
        "    with tarfile.open(archive_path) as tfile:\n",
        "        tfile.extractall(path=download_dir)\n",
        "print('Done')"
      ],
      "id": "HgwiAJL3ub8e"
    },
    {
      "cell_type": "code",
      "execution_count": null,
      "metadata": {
        "colab": {
          "base_uri": "https://localhost:8080/",
          "height": 206
        },
        "id": "ZtvHzdrtv9h9",
        "outputId": "614422cf-078e-4f78-c458-8108de14632a"
      },
      "outputs": [
        {
          "data": {
            "text/html": [
              "\n",
              "  <div id=\"df-c8f40bac-c2c0-48f5-a012-29ad365390a1\">\n",
              "    <div class=\"colab-df-container\">\n",
              "      <div>\n",
              "<style scoped>\n",
              "    .dataframe tbody tr th:only-of-type {\n",
              "        vertical-align: middle;\n",
              "    }\n",
              "\n",
              "    .dataframe tbody tr th {\n",
              "        vertical-align: top;\n",
              "    }\n",
              "\n",
              "    .dataframe thead th {\n",
              "        text-align: right;\n",
              "    }\n",
              "</style>\n",
              "<table border=\"1\" class=\"dataframe\">\n",
              "  <thead>\n",
              "    <tr style=\"text-align: right;\">\n",
              "      <th></th>\n",
              "      <th>Image ID</th>\n",
              "      <th>Storm ID</th>\n",
              "      <th>Relative Time</th>\n",
              "      <th>Ocean</th>\n",
              "      <th>path</th>\n",
              "    </tr>\n",
              "  </thead>\n",
              "  <tbody>\n",
              "    <tr>\n",
              "      <th>0</th>\n",
              "      <td>acd_123</td>\n",
              "      <td>acd</td>\n",
              "      <td>304198</td>\n",
              "      <td>1</td>\n",
              "      <td>/root/Downloads/nasa_tropical_storm_competitio...</td>\n",
              "    </tr>\n",
              "    <tr>\n",
              "      <th>1</th>\n",
              "      <td>acd_124</td>\n",
              "      <td>acd</td>\n",
              "      <td>305998</td>\n",
              "      <td>1</td>\n",
              "      <td>/root/Downloads/nasa_tropical_storm_competitio...</td>\n",
              "    </tr>\n",
              "    <tr>\n",
              "      <th>2</th>\n",
              "      <td>acd_125</td>\n",
              "      <td>acd</td>\n",
              "      <td>307798</td>\n",
              "      <td>1</td>\n",
              "      <td>/root/Downloads/nasa_tropical_storm_competitio...</td>\n",
              "    </tr>\n",
              "    <tr>\n",
              "      <th>3</th>\n",
              "      <td>acd_126</td>\n",
              "      <td>acd</td>\n",
              "      <td>309598</td>\n",
              "      <td>1</td>\n",
              "      <td>/root/Downloads/nasa_tropical_storm_competitio...</td>\n",
              "    </tr>\n",
              "    <tr>\n",
              "      <th>4</th>\n",
              "      <td>acd_127</td>\n",
              "      <td>acd</td>\n",
              "      <td>313198</td>\n",
              "      <td>1</td>\n",
              "      <td>/root/Downloads/nasa_tropical_storm_competitio...</td>\n",
              "    </tr>\n",
              "  </tbody>\n",
              "</table>\n",
              "</div>\n",
              "      <button class=\"colab-df-convert\" onclick=\"convertToInteractive('df-c8f40bac-c2c0-48f5-a012-29ad365390a1')\"\n",
              "              title=\"Convert this dataframe to an interactive table.\"\n",
              "              style=\"display:none;\">\n",
              "        \n",
              "  <svg xmlns=\"http://www.w3.org/2000/svg\" height=\"24px\"viewBox=\"0 0 24 24\"\n",
              "       width=\"24px\">\n",
              "    <path d=\"M0 0h24v24H0V0z\" fill=\"none\"/>\n",
              "    <path d=\"M18.56 5.44l.94 2.06.94-2.06 2.06-.94-2.06-.94-.94-2.06-.94 2.06-2.06.94zm-11 1L8.5 8.5l.94-2.06 2.06-.94-2.06-.94L8.5 2.5l-.94 2.06-2.06.94zm10 10l.94 2.06.94-2.06 2.06-.94-2.06-.94-.94-2.06-.94 2.06-2.06.94z\"/><path d=\"M17.41 7.96l-1.37-1.37c-.4-.4-.92-.59-1.43-.59-.52 0-1.04.2-1.43.59L10.3 9.45l-7.72 7.72c-.78.78-.78 2.05 0 2.83L4 21.41c.39.39.9.59 1.41.59.51 0 1.02-.2 1.41-.59l7.78-7.78 2.81-2.81c.8-.78.8-2.07 0-2.86zM5.41 20L4 18.59l7.72-7.72 1.47 1.35L5.41 20z\"/>\n",
              "  </svg>\n",
              "      </button>\n",
              "      \n",
              "  <style>\n",
              "    .colab-df-container {\n",
              "      display:flex;\n",
              "      flex-wrap:wrap;\n",
              "      gap: 12px;\n",
              "    }\n",
              "\n",
              "    .colab-df-convert {\n",
              "      background-color: #E8F0FE;\n",
              "      border: none;\n",
              "      border-radius: 50%;\n",
              "      cursor: pointer;\n",
              "      display: none;\n",
              "      fill: #1967D2;\n",
              "      height: 32px;\n",
              "      padding: 0 0 0 0;\n",
              "      width: 32px;\n",
              "    }\n",
              "\n",
              "    .colab-df-convert:hover {\n",
              "      background-color: #E2EBFA;\n",
              "      box-shadow: 0px 1px 2px rgba(60, 64, 67, 0.3), 0px 1px 3px 1px rgba(60, 64, 67, 0.15);\n",
              "      fill: #174EA6;\n",
              "    }\n",
              "\n",
              "    [theme=dark] .colab-df-convert {\n",
              "      background-color: #3B4455;\n",
              "      fill: #D2E3FC;\n",
              "    }\n",
              "\n",
              "    [theme=dark] .colab-df-convert:hover {\n",
              "      background-color: #434B5C;\n",
              "      box-shadow: 0px 1px 3px 1px rgba(0, 0, 0, 0.15);\n",
              "      filter: drop-shadow(0px 1px 2px rgba(0, 0, 0, 0.3));\n",
              "      fill: #FFFFFF;\n",
              "    }\n",
              "  </style>\n",
              "\n",
              "      <script>\n",
              "        const buttonEl =\n",
              "          document.querySelector('#df-c8f40bac-c2c0-48f5-a012-29ad365390a1 button.colab-df-convert');\n",
              "        buttonEl.style.display =\n",
              "          google.colab.kernel.accessAllowed ? 'block' : 'none';\n",
              "\n",
              "        async function convertToInteractive(key) {\n",
              "          const element = document.querySelector('#df-c8f40bac-c2c0-48f5-a012-29ad365390a1');\n",
              "          const dataTable =\n",
              "            await google.colab.kernel.invokeFunction('convertToInteractive',\n",
              "                                                     [key], {});\n",
              "          if (!dataTable) return;\n",
              "\n",
              "          const docLinkHtml = 'Like what you see? Visit the ' +\n",
              "            '<a target=\"_blank\" href=https://colab.research.google.com/notebooks/data_table.ipynb>data table notebook</a>'\n",
              "            + ' to learn more about interactive tables.';\n",
              "          element.innerHTML = '';\n",
              "          dataTable['output_type'] = 'display_data';\n",
              "          await google.colab.output.renderOutput(dataTable, element);\n",
              "          const docLink = document.createElement('div');\n",
              "          docLink.innerHTML = docLinkHtml;\n",
              "          element.appendChild(docLink);\n",
              "        }\n",
              "      </script>\n",
              "    </div>\n",
              "  </div>\n",
              "  "
            ],
            "text/plain": [
              "  Image ID Storm ID Relative Time Ocean  \\\n",
              "0  acd_123      acd        304198     1   \n",
              "1  acd_124      acd        305998     1   \n",
              "2  acd_125      acd        307798     1   \n",
              "3  acd_126      acd        309598     1   \n",
              "4  acd_127      acd        313198     1   \n",
              "\n",
              "                                                path  \n",
              "0  /root/Downloads/nasa_tropical_storm_competitio...  \n",
              "1  /root/Downloads/nasa_tropical_storm_competitio...  \n",
              "2  /root/Downloads/nasa_tropical_storm_competitio...  \n",
              "3  /root/Downloads/nasa_tropical_storm_competitio...  \n",
              "4  /root/Downloads/nasa_tropical_storm_competitio...  "
            ]
          },
          "execution_count": 86,
          "metadata": {},
          "output_type": "execute_result"
        }
      ],
      "source": [
        "train_data = []\n",
        "\n",
        "train_source = 'nasa_tropical_storm_competition_train_source'\n",
        "train_labels = 'nasa_tropical_storm_competition_train_labels'\n",
        "\n",
        "jpg_names = glob(str(download_dir / train_source / '**' / '*.jpg'))\n",
        "\n",
        "for jpg_path in jpg_names:\n",
        "    jpg_path = Path(jpg_path)\n",
        "    \n",
        "    # Get the IDs and file paths\n",
        "    features_path = jpg_path.parent / 'features.json'\n",
        "    image_id = '_'.join(jpg_path.parent.stem.rsplit('_', 3)[-2:])\n",
        "    storm_id = image_id.split('_')[0]\n",
        "    labels_path = str(jpg_path.parent / 'labels.json').replace(train_source, train_labels)\n",
        "\n",
        "\n",
        "    # Load the features data\n",
        "    with open(features_path) as src:\n",
        "        features_data = json.load(src)\n",
        "        \n",
        "    # Load the labels data\n",
        "    with open(labels_path) as src:\n",
        "        labels_data = json.load(src)\n",
        "\n",
        "    train_data.append([\n",
        "        image_id, \n",
        "        storm_id, \n",
        "        int(features_data['relative_time']), \n",
        "        int(features_data['ocean']), \n",
        "        int(labels_data['wind_speed']),\n",
        "        jpg_path\n",
        "    ])\n",
        "\n",
        "train_df = pd.DataFrame(\n",
        "    np.array(train_data),\n",
        "    columns=['Image ID', 'Storm ID', 'Relative Time', 'Ocean', 'Wind Speed', 'path']\n",
        ").sort_values(by=['Image ID']).reset_index(drop=True)\n",
        "\n",
        "train_df.head()\n",
        "\n",
        "test_data = []\n",
        "\n",
        "test_source = 'nasa_tropical_storm_competition_test_source'\n",
        "\n",
        "jpg_names = glob(str(download_dir / test_source / '**' / '*.jpg'))\n",
        "\n",
        "for jpg_path in jpg_names:\n",
        "    jpg_path = Path(jpg_path)\n",
        "\n",
        "    # Get the IDs and file paths\n",
        "    features_path = jpg_path.parent / 'features.json'\n",
        "    image_id = '_'.join(jpg_path.parent.stem.rsplit('_', 3)[-2:])\n",
        "    storm_id = image_id.split('_')[0]\n",
        "\n",
        "    # Load the features data\n",
        "    with open(features_path) as src:\n",
        "        features_data = json.load(src)\n",
        "\n",
        "    test_data.append([\n",
        "        image_id, \n",
        "        storm_id, \n",
        "        int(features_data['relative_time']), \n",
        "        int(features_data['ocean']), \n",
        "        jpg_path\n",
        "    ])\n",
        "\n",
        "test_df = pd.DataFrame(\n",
        "    np.array(test_data),\n",
        "    columns=['Image ID', 'Storm ID', 'Relative Time', 'Ocean', 'path']\n",
        ").sort_values(by=['Image ID']).reset_index(drop=True)\n",
        "\n",
        "test_df.head()"
      ],
      "id": "ZtvHzdrtv9h9"
    },
    {
      "cell_type": "code",
      "execution_count": 97,
      "metadata": {
        "colab": {
          "base_uri": "https://localhost:8080/"
        },
        "id": "otzefnQoxJg4",
        "outputId": "2b10b30a-bf29-44ee-cb92-e99c97c4a6da"
      },
      "outputs": [
        {
          "output_type": "execute_result",
          "data": {
            "text/plain": [
              "(57, 366, 366)"
            ]
          },
          "metadata": {},
          "execution_count": 97
        }
      ],
      "source": [
        "# generate example tensor set of storm ID: abs\n",
        "wind = train_df[train_df[\"Storm ID\"] == 'abs']\n",
        "\n",
        "#data transformation\n",
        "from torchvision import transforms\n",
        "train = [] #actual data\n",
        "test=[] #64x64 test data\n",
        "labels = []#relative time\n",
        "\n",
        "for filename in wind.path:\n",
        "  f = np.array(pil_image.open(filename).convert('L')).astype(float) #read image file as numpy array, convert into 8 bytes grey scale\n",
        "  t = np.array(pil_image.open(filename).convert('L')).astype(float)\n",
        "  train.append(f)\n",
        "  test.append(t)\n",
        "\n",
        "for t in wind[\"Relative Time\"]:\n",
        "  labels.append(t)\n",
        "\n",
        "\n",
        "np.shape(train)"
      ],
      "id": "otzefnQoxJg4"
    },
    {
      "cell_type": "code",
      "execution_count": 103,
      "metadata": {
        "colab": {
          "base_uri": "https://localhost:8080/",
          "height": 286
        },
        "id": "ODR9OU_M-bVX",
        "outputId": "304a0b0f-0fc0-4c31-fbe9-ef80514aa1e9"
      },
      "outputs": [
        {
          "output_type": "execute_result",
          "data": {
            "text/plain": [
              "<matplotlib.image.AxesImage at 0x7f230e4ecf90>"
            ]
          },
          "metadata": {},
          "execution_count": 103
        },
        {
          "output_type": "display_data",
          "data": {
            "text/plain": [
              "<Figure size 432x288 with 1 Axes>"
            ],
            "image/png": "[encoded data removed]"
          },
          "metadata": {
            "needs_background": "light"
          }
        }
      ],
      "source": [
        "plt.imshow(test[0])"
      ],
      "id": "ODR9OU_M-bVX"
    },
    {
      "cell_type": "markdown",
      "metadata": {
        "id": "be99ef1f"
      },
      "source": [
        "# We only use 300 data instead of 1200 data because of the limitation of the computation of our computer, if we have more time, we would like to use all data and a bigger epoch number so that we can get a accurate model."
      ],
      "id": "be99ef1f"
    },
    {
      "cell_type": "markdown",
      "metadata": {
        "id": "6f05a70e"
      },
      "source": [
        "###  convolutional encoder"
      ],
      "id": "6f05a70e"
    },
    {
      "cell_type": "code",
      "execution_count": 104,
      "metadata": {
        "id": "5370dfcc"
      },
      "outputs": [],
      "source": [
        "train = np.reshape(train,(np.shape(train)[0],np.shape(train)[1],np.shape(train)[2],1))\n",
        "#train = np.moveaxis(train,1,2)"
      ],
      "id": "5370dfcc"
    },
    {
      "cell_type": "code",
      "execution_count": 105,
      "metadata": {
        "id": "7b04b1da"
      },
      "outputs": [],
      "source": [
        "test = np.reshape(test,(np.shape(test)[0],np.shape(test)[1],np.shape(test)[2],1))\n",
        "#test = np.moveaxis(test,1,2)"
      ],
      "id": "7b04b1da"
    },
    {
      "cell_type": "code",
      "source": [
        "mean = np.mean(train[:][:][:].flatten()).item()/255.\n",
        "std = np.std(test[:][:][:].flatten()).item()/255.\n",
        "def apply_standardization(X):\n",
        "  X /=255.\n",
        "  X -=mean\n",
        "  X /=std\n",
        "  return X\n",
        "\n",
        "#standaridize data\n",
        "train = apply_standardization(train)\n",
        "test = apply_standardization(test)"
      ],
      "metadata": {
        "id": "StDGCvlURQYT"
      },
      "id": "StDGCvlURQYT",
      "execution_count": 106,
      "outputs": []
    },
    {
      "cell_type": "code",
      "source": [
        ""
      ],
      "metadata": {
        "id": "dzfjmi_PRjkN"
      },
      "id": "dzfjmi_PRjkN",
      "execution_count": 107,
      "outputs": []
    },
    {
      "cell_type": "code",
      "execution_count": 108,
      "metadata": {
        "colab": {
          "base_uri": "https://localhost:8080/"
        },
        "id": "gUIJPLNv8yaP",
        "outputId": "d5955d56-5a48-48f7-f2a8-8d1adee3cb24"
      },
      "outputs": [
        {
          "output_type": "execute_result",
          "data": {
            "text/plain": [
              "(57, 366, 366, 1)"
            ]
          },
          "metadata": {},
          "execution_count": 108
        }
      ],
      "source": [
        "np.shape(test)"
      ],
      "id": "gUIJPLNv8yaP"
    },
    {
      "cell_type": "code",
      "execution_count": 109,
      "metadata": {
        "id": "dbcdca8c"
      },
      "outputs": [],
      "source": [
        "train=train.astype(float)"
      ],
      "id": "dbcdca8c"
    },
    {
      "cell_type": "code",
      "execution_count": 110,
      "metadata": {
        "id": "ddea3c81"
      },
      "outputs": [],
      "source": [
        "test=test.astype(float)"
      ],
      "id": "ddea3c81"
    },
    {
      "cell_type": "markdown",
      "metadata": {
        "id": "a08080b4"
      },
      "source": [
        "# We tried a very complex CNN model, we added many different type of layers:\n",
        "- MaxPool2D: Applies a 2D max pooling over an input signal composed of several input planes\n",
        "- Conv2D: Applies a 2D convolution over an input signal composed of several input planes\n",
        "- UpSampling2D: Repeats the rows and columns of the data by size[0] and size[1] respectively.\n",
        "- Cropping2D: It crops along spatial dimensions, i.e. height and width.\n",
        "\n",
        "### The theory behind it is that It can better retain the connected information between the pixels of an image. The convolution step creates many small pieces called the feature maps or features. These squares preserve the relationship between pixels in the input image. "
      ],
      "id": "a08080b4"
    },
    {
      "cell_type": "code",
      "execution_count": 114,
      "metadata": {
        "colab": {
          "base_uri": "https://localhost:8080/"
        },
        "id": "5d5bf0b9",
        "outputId": "8a08e313-eef7-4d58-930b-27620cc7103c"
      },
      "outputs": [
        {
          "output_type": "stream",
          "name": "stdout",
          "text": [
            "Model: \"sequential_131\"\n",
            "_________________________________________________________________\n",
            " Layer (type)                Output Shape              Param #   \n",
            "=================================================================\n",
            " conv2d_398 (Conv2D)         (None, 366, 366, 4)       404       \n",
            "                                                                 \n",
            " max_pooling2d_176 (MaxPooli  (None, 74, 74, 4)        0         \n",
            " ng2D)                                                           \n",
            "                                                                 \n",
            " conv2d_399 (Conv2D)         (None, 74, 74, 8)         136       \n",
            "                                                                 \n",
            " max_pooling2d_177 (MaxPooli  (None, 25, 25, 8)        0         \n",
            " ng2D)                                                           \n",
            "                                                                 \n",
            " conv2d_400 (Conv2D)         (None, 25, 25, 8)         584       \n",
            "                                                                 \n",
            " max_pooling2d_178 (MaxPooli  (None, 9, 9, 8)          0         \n",
            " ng2D)                                                           \n",
            "                                                                 \n",
            " conv2d_401 (Conv2D)         (None, 9, 9, 8)           584       \n",
            "                                                                 \n",
            " max_pooling2d_179 (MaxPooli  (None, 5, 5, 8)          0         \n",
            " ng2D)                                                           \n",
            "                                                                 \n",
            " flatten_44 (Flatten)        (None, 200)               0         \n",
            "                                                                 \n",
            " dense_88 (Dense)            (None, 30)                6030      \n",
            "                                                                 \n",
            "=================================================================\n",
            "Total params: 7,738\n",
            "Trainable params: 7,738\n",
            "Non-trainable params: 0\n",
            "_________________________________________________________________\n",
            "Model: \"sequential_132\"\n",
            "_________________________________________________________________\n",
            " Layer (type)                Output Shape              Param #   \n",
            "=================================================================\n",
            " dense_89 (Dense)            (None, 256)               7936      \n",
            "                                                                 \n",
            " reshape_44 (Reshape)        (None, 16, 16, 1)         0         \n",
            "                                                                 \n",
            " conv2d_402 (Conv2D)         (None, 16, 16, 8)         40        \n",
            "                                                                 \n",
            " up_sampling2d_176 (UpSampli  (None, 32, 32, 8)        0         \n",
            " ng2D)                                                           \n",
            "                                                                 \n",
            " conv2d_403 (Conv2D)         (None, 32, 32, 8)         264       \n",
            "                                                                 \n",
            " up_sampling2d_177 (UpSampli  (None, 64, 64, 8)        0         \n",
            " ng2D)                                                           \n",
            "                                                                 \n",
            " cropping2d_42 (Cropping2D)  (None, 61, 61, 8)         0         \n",
            "                                                                 \n",
            " conv2d_404 (Conv2D)         (None, 61, 61, 8)         264       \n",
            "                                                                 \n",
            " up_sampling2d_178 (UpSampli  (None, 122, 122, 8)      0         \n",
            " ng2D)                                                           \n",
            "                                                                 \n",
            " conv2d_405 (Conv2D)         (None, 122, 122, 4)       292       \n",
            "                                                                 \n",
            " up_sampling2d_179 (UpSampli  (None, 366, 366, 4)      0         \n",
            " ng2D)                                                           \n",
            "                                                                 \n",
            " conv2d_406 (Conv2D)         (None, 366, 366, 1)       401       \n",
            "                                                                 \n",
            "=================================================================\n",
            "Total params: 9,197\n",
            "Trainable params: 9,197\n",
            "Non-trainable params: 0\n",
            "_________________________________________________________________\n"
          ]
        }
      ],
      "source": [
        "tf.random.set_seed(42)\n",
        "np.random.seed(42)\n",
        "\n",
        "# Need to have validation loss\n",
        "early_stopping = keras.callbacks.EarlyStopping(monitor='val_loss',\n",
        "                                               min_delta=0.0,\n",
        "                                               patience=50,\n",
        "                                               verbose=2,\n",
        "                                               restore_best_weights=True)\n",
        "\n",
        "\n",
        "conv_encoder = keras.models.Sequential([\n",
        "    keras.layers.InputLayer(input_shape=(366, 366, 1)),\n",
        "    keras.layers.Conv2D(4, kernel_size=(10,10), padding=\"SAME\", activation=\"relu\"),\n",
        "    keras.layers.MaxPool2D(pool_size=(5, 5), padding=\"SAME\"),\n",
        "    keras.layers.Conv2D(8, kernel_size=(2,2), padding=\"SAME\", activation=\"relu\"),\n",
        "    keras.layers.MaxPool2D(pool_size=(3, 3), padding=\"SAME\"),\n",
        "    keras.layers.Conv2D(8, kernel_size=(3,3), padding=\"SAME\", activation=\"relu\"),\n",
        "    keras.layers.MaxPool2D(pool_size=(3, 3), padding=\"SAME\"),\n",
        "    keras.layers.Conv2D(8, kernel_size=(3,3), padding=\"SAME\", activation=\"relu\"),\n",
        "    keras.layers.MaxPool2D(pool_size=(2, 2), padding=\"SAME\"),\n",
        "    keras.layers.Flatten(),\n",
        "    keras.layers.Dense(30),\n",
        "])\n",
        "\n",
        "conv_decoder = keras.models.Sequential([\n",
        "    keras.layers.Dense(256, input_shape=[30], activation=\"relu\"),\n",
        "    keras.layers.Reshape(target_shape=(16, 16, 1)),\n",
        "    keras.layers.Conv2D(8, kernel_size=(2,2), padding=\"SAME\", activation=\"relu\"),\n",
        "    keras.layers.UpSampling2D(size=(2, 2)),\n",
        "    keras.layers.Conv2D(8, kernel_size=(2,2), padding=\"SAME\", activation=\"relu\"),\n",
        "    keras.layers.UpSampling2D(size=(2, 2)),\n",
        "    keras.layers.Cropping2D(cropping=((3, 0), (3, 0)), data_format=None),\n",
        "    keras.layers.Conv2D(8, kernel_size=(2,2), padding=\"SAME\", activation=\"relu\"),\n",
        "    keras.layers.UpSampling2D(size=(2, 2)),    \n",
        "    keras.layers.Conv2D(4, kernel_size=(3,3), padding=\"SAME\", activation=\"relu\"),\n",
        "    keras.layers.UpSampling2D(size=(3, 3)),\n",
        "    keras.layers.Conv2D(1, kernel_size=(10,10), padding=\"SAME\", activation=\"sigmoid\"),\n",
        "    ])\n",
        "\n",
        "\n",
        "conv_ae = keras.models.Sequential([conv_encoder, conv_decoder])\n",
        "conv_ae.compile(loss=\"mse\", \n",
        "                optimizer=keras.optimizers.Adam(learning_rate=0.01, beta_1=0.9, beta_2=0.999))\n",
        "\n",
        "conv_encoder.summary()\n",
        "conv_decoder.summary()"
      ],
      "id": "5d5bf0b9"
    },
    {
      "cell_type": "code",
      "execution_count": 115,
      "metadata": {
        "colab": {
          "base_uri": "https://localhost:8080/"
        },
        "id": "0910b9f5",
        "outputId": "41bff779-ee2e-43e0-8626-f9a892c9c1f8"
      },
      "outputs": [
        {
          "output_type": "stream",
          "name": "stdout",
          "text": [
            "Epoch 1/40\n",
            "2/2 - 1s - loss: 1.1181 - val_loss: 0.8798 - 1s/epoch - 618ms/step\n",
            "Epoch 2/40\n",
            "2/2 - 0s - loss: 0.8720 - val_loss: 0.7878 - 225ms/epoch - 112ms/step\n",
            "Epoch 3/40\n",
            "2/2 - 0s - loss: 0.7734 - val_loss: 0.7474 - 232ms/epoch - 116ms/step\n",
            "Epoch 4/40\n",
            "2/2 - 0s - loss: 0.7471 - val_loss: 0.7449 - 230ms/epoch - 115ms/step\n",
            "Epoch 5/40\n",
            "2/2 - 0s - loss: 0.7425 - val_loss: 0.7359 - 227ms/epoch - 113ms/step\n",
            "Epoch 6/40\n",
            "2/2 - 0s - loss: 0.7365 - val_loss: 0.7338 - 234ms/epoch - 117ms/step\n",
            "Epoch 7/40\n",
            "2/2 - 0s - loss: 0.7332 - val_loss: 0.7304 - 227ms/epoch - 114ms/step\n",
            "Epoch 8/40\n",
            "2/2 - 0s - loss: 0.7298 - val_loss: 0.7275 - 227ms/epoch - 113ms/step\n",
            "Epoch 9/40\n",
            "2/2 - 0s - loss: 0.7271 - val_loss: 0.7247 - 225ms/epoch - 113ms/step\n",
            "Epoch 10/40\n",
            "2/2 - 0s - loss: 0.7243 - val_loss: 0.7212 - 224ms/epoch - 112ms/step\n",
            "Epoch 11/40\n",
            "2/2 - 0s - loss: 0.7289 - val_loss: 0.7205 - 227ms/epoch - 114ms/step\n",
            "Epoch 12/40\n",
            "2/2 - 0s - loss: 0.7204 - val_loss: 0.7167 - 224ms/epoch - 112ms/step\n",
            "Epoch 13/40\n",
            "2/2 - 0s - loss: 0.7158 - val_loss: 0.7138 - 227ms/epoch - 114ms/step\n",
            "Epoch 14/40\n",
            "2/2 - 0s - loss: 0.7128 - val_loss: 0.7093 - 227ms/epoch - 113ms/step\n",
            "Epoch 15/40\n",
            "2/2 - 0s - loss: 0.7098 - val_loss: 0.7053 - 229ms/epoch - 114ms/step\n",
            "Epoch 16/40\n",
            "2/2 - 0s - loss: 0.7056 - val_loss: 0.7026 - 224ms/epoch - 112ms/step\n",
            "Epoch 17/40\n",
            "2/2 - 0s - loss: 0.7021 - val_loss: 0.7001 - 229ms/epoch - 115ms/step\n",
            "Epoch 18/40\n",
            "2/2 - 0s - loss: 0.6997 - val_loss: 0.6973 - 225ms/epoch - 112ms/step\n",
            "Epoch 19/40\n",
            "2/2 - 0s - loss: 0.6969 - val_loss: 0.6945 - 227ms/epoch - 113ms/step\n",
            "Epoch 20/40\n",
            "2/2 - 0s - loss: 0.6944 - val_loss: 0.6929 - 229ms/epoch - 114ms/step\n",
            "Epoch 21/40\n",
            "2/2 - 0s - loss: 0.6925 - val_loss: 0.6900 - 227ms/epoch - 113ms/step\n",
            "Epoch 22/40\n",
            "2/2 - 0s - loss: 0.6911 - val_loss: 0.6981 - 222ms/epoch - 111ms/step\n",
            "Epoch 23/40\n",
            "2/2 - 0s - loss: 0.6934 - val_loss: 0.6885 - 227ms/epoch - 113ms/step\n",
            "Epoch 24/40\n",
            "2/2 - 0s - loss: 0.6877 - val_loss: 0.6973 - 221ms/epoch - 110ms/step\n",
            "Epoch 25/40\n",
            "2/2 - 0s - loss: 0.6916 - val_loss: 0.6825 - 227ms/epoch - 113ms/step\n",
            "Epoch 26/40\n",
            "2/2 - 0s - loss: 0.6812 - val_loss: 0.6802 - 227ms/epoch - 114ms/step\n",
            "Epoch 27/40\n",
            "2/2 - 0s - loss: 0.6802 - val_loss: 0.6789 - 230ms/epoch - 115ms/step\n",
            "Epoch 28/40\n",
            "2/2 - 0s - loss: 0.6781 - val_loss: 0.6753 - 230ms/epoch - 115ms/step\n",
            "Epoch 29/40\n",
            "2/2 - 0s - loss: 0.6752 - val_loss: 0.6808 - 224ms/epoch - 112ms/step\n",
            "Epoch 30/40\n",
            "2/2 - 0s - loss: 0.6784 - val_loss: 0.6723 - 226ms/epoch - 113ms/step\n",
            "Epoch 31/40\n",
            "2/2 - 0s - loss: 0.6724 - val_loss: 0.6704 - 226ms/epoch - 113ms/step\n",
            "Epoch 32/40\n",
            "2/2 - 0s - loss: 0.6697 - val_loss: 0.6678 - 225ms/epoch - 112ms/step\n",
            "Epoch 33/40\n",
            "2/2 - 0s - loss: 0.6674 - val_loss: 0.6663 - 226ms/epoch - 113ms/step\n",
            "Epoch 34/40\n",
            "2/2 - 0s - loss: 0.6659 - val_loss: 0.6644 - 228ms/epoch - 114ms/step\n",
            "Epoch 35/40\n",
            "2/2 - 0s - loss: 0.6641 - val_loss: 0.6626 - 230ms/epoch - 115ms/step\n",
            "Epoch 36/40\n",
            "2/2 - 0s - loss: 0.6620 - val_loss: 0.6593 - 234ms/epoch - 117ms/step\n",
            "Epoch 37/40\n",
            "2/2 - 0s - loss: 0.6592 - val_loss: 0.6573 - 228ms/epoch - 114ms/step\n",
            "Epoch 38/40\n",
            "2/2 - 0s - loss: 0.6570 - val_loss: 0.6552 - 228ms/epoch - 114ms/step\n",
            "Epoch 39/40\n",
            "2/2 - 0s - loss: 0.6548 - val_loss: 0.6530 - 224ms/epoch - 112ms/step\n",
            "Epoch 40/40\n",
            "2/2 - 0s - loss: 0.6527 - val_loss: 0.6516 - 224ms/epoch - 112ms/step\n",
            "the execution time of cnn autoencoder is 10.303938150405884\n"
          ]
        }
      ],
      "source": [
        "start = time.time()\n",
        "history = conv_ae.fit(train,\n",
        "                      train, \n",
        "                      epochs=40, \n",
        "                      validation_data=(test, test),\n",
        "                      verbose=2,\n",
        "                      callbacks=[early_stopping]\n",
        "                     )\n",
        "end = time.time()\n",
        "print(f\"the execution time of cnn autoencoder is {end - start}\")"
      ],
      "id": "0910b9f5"
    },
    {
      "cell_type": "code",
      "execution_count": 116,
      "metadata": {
        "colab": {
          "base_uri": "https://localhost:8080/",
          "height": 320
        },
        "id": "521ead1d",
        "outputId": "9a48a877-cace-440b-e230-00dcab8f235d"
      },
      "outputs": [
        {
          "output_type": "display_data",
          "data": {
            "text/plain": [
              "<Figure size 576x360 with 1 Axes>"
            ],
            "image/png": "[encoded data removed]"
          },
          "metadata": {
            "needs_background": "light"
          }
        }
      ],
      "source": [
        "# print(history_conv.history.keys())\n",
        "# print('best value: ', conv_ae.evaluate(train, train, verbose=0))\n",
        "\n",
        "pd.DataFrame(history.history).plot(figsize=(8, 5), logy=True)\n",
        "plt.grid()"
      ],
      "id": "521ead1d"
    },
    {
      "cell_type": "code",
      "source": [
        ""
      ],
      "metadata": {
        "id": "Hl8LO3JqUmho"
      },
      "id": "Hl8LO3JqUmho",
      "execution_count": null,
      "outputs": []
    },
    {
      "cell_type": "code",
      "execution_count": null,
      "metadata": {
        "id": "ff18ba96"
      },
      "outputs": [],
      "source": [
        "from numpy.linalg import inv\n",
        "\n",
        "def covariance_matrix(X):\n",
        "    means = np.array([np.mean(X, axis = 1)]).transpose()\n",
        "    dev_matrix = X - means\n",
        "    res = np.dot(dev_matrix, dev_matrix.transpose())/(X.shape[1]-1)\n",
        "    return res\n",
        "\n",
        "def update_prediction(x, K, H, y):\n",
        "    res = x + np.dot(K,(y - np.dot(H, x)))\n",
        "    return res  \n",
        "\n",
        "def KalmanGain(B, H, R):\n",
        "    tempInv = inv(R + np.dot(H,np.dot(B,H.transpose())))\n",
        "    res = np.dot(B,np.dot(H.transpose(),tempInv))\n",
        "    return res\n",
        "\n",
        "def mse(y_obs, y_pred):\n",
        "    return np.square(np.subtract(y_obs,y_pred)).mean()"
      ],
      "id": "ff18ba96"
    },
    {
      "cell_type": "code",
      "execution_count": null,
      "metadata": {
        "id": "b7a536ba",
        "outputId": "4b4be745-a43d-4802-cdc7-78aef0fb7c53"
      },
      "outputs": [
        {
          "name": "stdout",
          "output_type": "stream",
          "text": [
            "Model data size: (5, 30)\n",
            "Sensors data size: (5, 30)\n"
          ]
        }
      ],
      "source": [
        "encoder = conv_encoder\n",
        "decoder = conv_decoder\n",
        "\n",
        "model_data_compr = encoder.predict(model_data)\n",
        "sensors_data_compr = encoder.predict(sensors_data)\n",
        "\n",
        "print(f\"Model data size: {model_data_compr.shape}\")\n",
        "print(f\"Sensors data size: {sensors_data_compr.shape}\")"
      ],
      "id": "b7a536ba"
    },
    {
      "cell_type": "code",
      "execution_count": null,
      "metadata": {
        "id": "29e6ee7e"
      },
      "outputs": [],
      "source": [
        "latent_space = 30  #size of the compressed variables#################\n",
        "nNodes = latent_space \n",
        "I = np.identity(nNodes)\n",
        "R = 0.001*I #np.cov(sensors_data_compr.T) or covariance_matrix(np.array(sensors_data_compr).T) #Observation error covariance\n",
        "H = I #Observation operator\n",
        "B = np.cov(model_data_compr.T) #covariance_matrix(np.array(model_data_compr).T) #Background error covariance"
      ],
      "id": "29e6ee7e"
    },
    {
      "cell_type": "code",
      "execution_count": null,
      "metadata": {
        "id": "738f1427",
        "outputId": "78b1347e-ad49-4569-ec37-80b6eb7c0c9f"
      },
      "outputs": [
        {
          "name": "stdout",
          "output_type": "stream",
          "text": [
            "Start Assimilation\n",
            "MSE before assimilation for the compressed data:  0.84247756\n",
            "MSE after assimilation for the compressed data:  0.21846668776188982\n",
            "Time for assimilation: 0.001583099365234375 seconds\n"
          ]
        }
      ],
      "source": [
        "print('Start Assimilation')\n",
        "start = time.time()\n",
        "\n",
        "K = KalmanGain(B, H, R) \n",
        "\n",
        "updated_data_list = []\n",
        "for i in range(len(model_data_compr)):\n",
        "    updated_data = update_prediction(model_data_compr[i], K, H, sensors_data_compr[i]) #compute only the analysis\n",
        "    updated_data_list.append(updated_data)\n",
        "updated_data_compr = np.array(updated_data_list)\n",
        "\n",
        "mse_before_DA_latent = mse(sensors_data_compr, model_data_compr)\n",
        "mse_after_DA_latent = mse(sensors_data_compr, updated_data_compr)\n",
        "\n",
        "end = time.time()   \n",
        "\n",
        "print('MSE before assimilation for the compressed data: ', mse_before_DA_latent)\n",
        "print('MSE after assimilation for the compressed data: ', mse_after_DA_latent)\n",
        "print(f'Time for assimilation: {end-start} seconds')"
      ],
      "id": "738f1427"
    },
    {
      "cell_type": "code",
      "execution_count": null,
      "metadata": {
        "id": "a5258916",
        "outputId": "223ca1b2-bde0-4891-936e-d86f23b85c21"
      },
      "outputs": [
        {
          "name": "stdout",
          "output_type": "stream",
          "text": [
            "MSE before assimilation for the decompressed data:  0.1252468804347963\n",
            "MSE after assimilation for the decompressed data:  0.08529647641403636\n"
          ]
        }
      ],
      "source": [
        "# Decompress (reconstruct) the updated, model and sensor data with the decoder\n",
        "decompressed_model_data = decoder.predict(model_data_compr)\n",
        "decompressed_sensors_data = decoder.predict(sensors_data_compr)\n",
        "decompressed_updated_data_array = decoder.predict(updated_data_compr)\n",
        "\n",
        "mse_before_DA = mse(sensors_data, model_data)\n",
        "mse_after_DA = mse(sensors_data.flatten(), decompressed_updated_data_array.flatten())\n",
        "\n",
        "print('MSE before assimilation for the decompressed data: ', mse_before_DA)\n",
        "print('MSE after assimilation for the decompressed data: ', mse_after_DA)\n"
      ],
      "id": "a5258916"
    },
    {
      "cell_type": "code",
      "execution_count": null,
      "metadata": {
        "id": "cf944910"
      },
      "outputs": [],
      "source": [
        "# save our model\n",
        "conv_ae.save(\"sibo_autoencoder_cnn_model.h5\")\n",
        "conv_encoder.save(\"sibo_encoder_cnn_model.h5\")\n",
        "conv_decoder.save(\"sibo_decoder_cnn_model.h5\")"
      ],
      "id": "cf944910"
    }
  ],
  "metadata": {
    "accelerator": "GPU",
    "colab": {
      "collapsed_sections": [],
      "machine_shape": "hm",
      "name": "Keras_Conv_AE.ipynb",
      "provenance": [],
      "include_colab_link": true
    },
    "kernelspec": {
      "display_name": "Python 3 (ipykernel)",
      "language": "python",
      "name": "python3"
    },
    "language_info": {
      "codemirror_mode": {
        "name": "ipython",
        "version": 3
      },
      "file_extension": ".py",
      "mimetype": "text/x-python",
      "name": "python",
      "nbconvert_exporter": "python",
      "pygments_lexer": "ipython3",
      "version": "3.7.11"
    },
    "widgets": {
      "application/vnd.jupyter.widget-state+json": {
        "0b13c461c29f42fe908968b98fd5674e": {
          "model_module": "@jupyter-widgets/controls",
          "model_module_version": "1.5.0",
          "model_name": "HBoxModel",
          "state": {
            "_dom_classes": [],
            "_model_module": "@jupyter-widgets/controls",
            "_model_module_version": "1.5.0",
            "_model_name": "HBoxModel",
            "_view_count": null,
            "_view_module": "@jupyter-widgets/controls",
            "_view_module_version": "1.5.0",
            "_view_name": "HBoxView",
            "box_style": "",
            "children": [
              "IPY_MODEL_28270b5502da42ba9b09e3cfea6e6fad",
              "IPY_MODEL_f4326a8fb13f485aad64d75ae661e75a",
              "IPY_MODEL_6057ba5123b74fcdbfdb6ca94a22414e"
            ],
            "layout": "IPY_MODEL_d14155694bdb45b7b20cb933689e436a"
          }
        },
        "14125b649ee5451b8902cb80c0345f92": {
          "model_module": "@jupyter-widgets/base",
          "model_module_version": "1.2.0",
          "model_name": "LayoutModel",
          "state": {
            "_model_module": "@jupyter-widgets/base",
            "_model_module_version": "1.2.0",
            "_model_name": "LayoutModel",
            "_view_count": null,
            "_view_module": "@jupyter-widgets/base",
            "_view_module_version": "1.2.0",
            "_view_name": "LayoutView",
            "align_content": null,
            "align_items": null,
            "align_self": null,
            "border": null,
            "bottom": null,
            "display": null,
            "flex": null,
            "flex_flow": null,
            "grid_area": null,
            "grid_auto_columns": null,
            "grid_auto_flow": null,
            "grid_auto_rows": null,
            "grid_column": null,
            "grid_gap": null,
            "grid_row": null,
            "grid_template_areas": null,
            "grid_template_columns": null,
            "grid_template_rows": null,
            "height": null,
            "justify_content": null,
            "justify_items": null,
            "left": null,
            "margin": null,
            "max_height": null,
            "max_width": null,
            "min_height": null,
            "min_width": null,
            "object_fit": null,
            "object_position": null,
            "order": null,
            "overflow": null,
            "overflow_x": null,
            "overflow_y": null,
            "padding": null,
            "right": null,
            "top": null,
            "visibility": null,
            "width": null
          }
        },
        "2224b1b3209549009b60b2ff257ed989": {
          "model_module": "@jupyter-widgets/base",
          "model_module_version": "1.2.0",
          "model_name": "LayoutModel",
          "state": {
            "_model_module": "@jupyter-widgets/base",
            "_model_module_version": "1.2.0",
            "_model_name": "LayoutModel",
            "_view_count": null,
            "_view_module": "@jupyter-widgets/base",
            "_view_module_version": "1.2.0",
            "_view_name": "LayoutView",
            "align_content": null,
            "align_items": null,
            "align_self": null,
            "border": null,
            "bottom": null,
            "display": null,
            "flex": null,
            "flex_flow": null,
            "grid_area": null,
            "grid_auto_columns": null,
            "grid_auto_flow": null,
            "grid_auto_rows": null,
            "grid_column": null,
            "grid_gap": null,
            "grid_row": null,
            "grid_template_areas": null,
            "grid_template_columns": null,
            "grid_template_rows": null,
            "height": null,
            "justify_content": null,
            "justify_items": null,
            "left": null,
            "margin": null,
            "max_height": null,
            "max_width": null,
            "min_height": null,
            "min_width": null,
            "object_fit": null,
            "object_position": null,
            "order": null,
            "overflow": null,
            "overflow_x": null,
            "overflow_y": null,
            "padding": null,
            "right": null,
            "top": null,
            "visibility": null,
            "width": null
          }
        },
        "28270b5502da42ba9b09e3cfea6e6fad": {
          "model_module": "@jupyter-widgets/controls",
          "model_module_version": "1.5.0",
          "model_name": "HTMLModel",
          "state": {
            "_dom_classes": [],
            "_model_module": "@jupyter-widgets/controls",
            "_model_module_version": "1.5.0",
            "_model_name": "HTMLModel",
            "_view_count": null,
            "_view_module": "@jupyter-widgets/controls",
            "_view_module_version": "1.5.0",
            "_view_name": "HTMLView",
            "description": "",
            "description_tooltip": null,
            "layout": "IPY_MODEL_14125b649ee5451b8902cb80c0345f92",
            "placeholder": "​",
            "style": "IPY_MODEL_914dfb04897b4e94abdd8bb14f1f40c4",
            "value": ""
          }
        },
        "2a70ae1862a44e0aa3c9943d0fdea5a0": {
          "model_module": "@jupyter-widgets/controls",
          "model_module_version": "1.5.0",
          "model_name": "DescriptionStyleModel",
          "state": {
            "_model_module": "@jupyter-widgets/controls",
            "_model_module_version": "1.5.0",
            "_model_name": "DescriptionStyleModel",
            "_view_count": null,
            "_view_module": "@jupyter-widgets/base",
            "_view_module_version": "1.2.0",
            "_view_name": "StyleView",
            "description_width": ""
          }
        },
        "2a9c00bed2874baca827a9517ffda29c": {
          "model_module": "@jupyter-widgets/controls",
          "model_module_version": "1.5.0",
          "model_name": "ProgressStyleModel",
          "state": {
            "_model_module": "@jupyter-widgets/controls",
            "_model_module_version": "1.5.0",
            "_model_name": "ProgressStyleModel",
            "_view_count": null,
            "_view_module": "@jupyter-widgets/base",
            "_view_module_version": "1.2.0",
            "_view_name": "StyleView",
            "bar_color": null,
            "description_width": ""
          }
        },
        "2dc2eea426834ea0bc5d2bbbf1edea8f": {
          "model_module": "@jupyter-widgets/base",
          "model_module_version": "1.2.0",
          "model_name": "LayoutModel",
          "state": {
            "_model_module": "@jupyter-widgets/base",
            "_model_module_version": "1.2.0",
            "_model_name": "LayoutModel",
            "_view_count": null,
            "_view_module": "@jupyter-widgets/base",
            "_view_module_version": "1.2.0",
            "_view_name": "LayoutView",
            "align_content": null,
            "align_items": null,
            "align_self": null,
            "border": null,
            "bottom": null,
            "display": null,
            "flex": null,
            "flex_flow": null,
            "grid_area": null,
            "grid_auto_columns": null,
            "grid_auto_flow": null,
            "grid_auto_rows": null,
            "grid_column": null,
            "grid_gap": null,
            "grid_row": null,
            "grid_template_areas": null,
            "grid_template_columns": null,
            "grid_template_rows": null,
            "height": null,
            "justify_content": null,
            "justify_items": null,
            "left": null,
            "margin": null,
            "max_height": null,
            "max_width": null,
            "min_height": null,
            "min_width": null,
            "object_fit": null,
            "object_position": null,
            "order": null,
            "overflow": null,
            "overflow_x": null,
            "overflow_y": null,
            "padding": null,
            "right": null,
            "top": null,
            "visibility": null,
            "width": null
          }
        },
        "3cd6902372a2411f827f7032ac1add8f": {
          "model_module": "@jupyter-widgets/base",
          "model_module_version": "1.2.0",
          "model_name": "LayoutModel",
          "state": {
            "_model_module": "@jupyter-widgets/base",
            "_model_module_version": "1.2.0",
            "_model_name": "LayoutModel",
            "_view_count": null,
            "_view_module": "@jupyter-widgets/base",
            "_view_module_version": "1.2.0",
            "_view_name": "LayoutView",
            "align_content": null,
            "align_items": null,
            "align_self": null,
            "border": null,
            "bottom": null,
            "display": null,
            "flex": null,
            "flex_flow": null,
            "grid_area": null,
            "grid_auto_columns": null,
            "grid_auto_flow": null,
            "grid_auto_rows": null,
            "grid_column": null,
            "grid_gap": null,
            "grid_row": null,
            "grid_template_areas": null,
            "grid_template_columns": null,
            "grid_template_rows": null,
            "height": null,
            "justify_content": null,
            "justify_items": null,
            "left": null,
            "margin": null,
            "max_height": null,
            "max_width": null,
            "min_height": null,
            "min_width": null,
            "object_fit": null,
            "object_position": null,
            "order": null,
            "overflow": null,
            "overflow_x": null,
            "overflow_y": null,
            "padding": null,
            "right": null,
            "top": null,
            "visibility": null,
            "width": null
          }
        },
        "4de55328db4f40178a14d4a0da4a3d77": {
          "model_module": "@jupyter-widgets/controls",
          "model_module_version": "1.5.0",
          "model_name": "HBoxModel",
          "state": {
            "_dom_classes": [],
            "_model_module": "@jupyter-widgets/controls",
            "_model_module_version": "1.5.0",
            "_model_name": "HBoxModel",
            "_view_count": null,
            "_view_module": "@jupyter-widgets/controls",
            "_view_module_version": "1.5.0",
            "_view_name": "HBoxView",
            "box_style": "",
            "children": [
              "IPY_MODEL_80eacf1809da4b408799cd9169ee01c6",
              "IPY_MODEL_71e1b00d6b5640ec8833f28f7cf38a4e",
              "IPY_MODEL_aa347e01c53f4851867fc5454b3468de"
            ],
            "layout": "IPY_MODEL_a1c9d75add7344b5a9c5ed2d5299f0f2"
          }
        },
        "521d5b35b0074fa2a03b7db2c675f087": {
          "model_module": "@jupyter-widgets/base",
          "model_module_version": "1.2.0",
          "model_name": "LayoutModel",
          "state": {
            "_model_module": "@jupyter-widgets/base",
            "_model_module_version": "1.2.0",
            "_model_name": "LayoutModel",
            "_view_count": null,
            "_view_module": "@jupyter-widgets/base",
            "_view_module_version": "1.2.0",
            "_view_name": "LayoutView",
            "align_content": null,
            "align_items": null,
            "align_self": null,
            "border": null,
            "bottom": null,
            "display": null,
            "flex": null,
            "flex_flow": null,
            "grid_area": null,
            "grid_auto_columns": null,
            "grid_auto_flow": null,
            "grid_auto_rows": null,
            "grid_column": null,
            "grid_gap": null,
            "grid_row": null,
            "grid_template_areas": null,
            "grid_template_columns": null,
            "grid_template_rows": null,
            "height": null,
            "justify_content": null,
            "justify_items": null,
            "left": null,
            "margin": null,
            "max_height": null,
            "max_width": null,
            "min_height": null,
            "min_width": null,
            "object_fit": null,
            "object_position": null,
            "order": null,
            "overflow": null,
            "overflow_x": null,
            "overflow_y": null,
            "padding": null,
            "right": null,
            "top": null,
            "visibility": null,
            "width": null
          }
        },
        "5422e24be8df4603995a2f01373978c4": {
          "model_module": "@jupyter-widgets/controls",
          "model_module_version": "1.5.0",
          "model_name": "FloatProgressModel",
          "state": {
            "_dom_classes": [],
            "_model_module": "@jupyter-widgets/controls",
            "_model_module_version": "1.5.0",
            "_model_name": "FloatProgressModel",
            "_view_count": null,
            "_view_module": "@jupyter-widgets/controls",
            "_view_module_version": "1.5.0",
            "_view_name": "ProgressView",
            "bar_style": "success",
            "description": "",
            "description_tooltip": null,
            "layout": "IPY_MODEL_862855018c444c52ac47589c13440dd6",
            "max": 4.6,
            "min": 0,
            "orientation": "horizontal",
            "style": "IPY_MODEL_6cc6808fb70e4b65b73eb0957c718d0d",
            "value": 4.6
          }
        },
        "6057ba5123b74fcdbfdb6ca94a22414e": {
          "model_module": "@jupyter-widgets/controls",
          "model_module_version": "1.5.0",
          "model_name": "HTMLModel",
          "state": {
            "_dom_classes": [],
            "_model_module": "@jupyter-widgets/controls",
            "_model_module_version": "1.5.0",
            "_model_name": "HTMLModel",
            "_view_count": null,
            "_view_module": "@jupyter-widgets/controls",
            "_view_module_version": "1.5.0",
            "_view_name": "HTMLView",
            "description": "",
            "description_tooltip": null,
            "layout": "IPY_MODEL_caa3d867b1a54103bee65be9e8eed083",
            "placeholder": "​",
            "style": "IPY_MODEL_9222e6bbfdaa4e6798fe7aa0b079491c",
            "value": " 10.0/? [00:00&lt;00:00, 23.39M/s]"
          }
        },
        "61d7a65dad4a435eadc74b0bd764805b": {
          "model_module": "@jupyter-widgets/controls",
          "model_module_version": "1.5.0",
          "model_name": "DescriptionStyleModel",
          "state": {
            "_model_module": "@jupyter-widgets/controls",
            "_model_module_version": "1.5.0",
            "_model_name": "DescriptionStyleModel",
            "_view_count": null,
            "_view_module": "@jupyter-widgets/base",
            "_view_module_version": "1.2.0",
            "_view_name": "StyleView",
            "description_width": ""
          }
        },
        "6344cde318b842999307b258a35a6abb": {
          "model_module": "@jupyter-widgets/controls",
          "model_module_version": "1.5.0",
          "model_name": "DescriptionStyleModel",
          "state": {
            "_model_module": "@jupyter-widgets/controls",
            "_model_module_version": "1.5.0",
            "_model_name": "DescriptionStyleModel",
            "_view_count": null,
            "_view_module": "@jupyter-widgets/base",
            "_view_module_version": "1.2.0",
            "_view_name": "StyleView",
            "description_width": ""
          }
        },
        "63f5b105e88d477eb33220999eb15e23": {
          "model_module": "@jupyter-widgets/base",
          "model_module_version": "1.2.0",
          "model_name": "LayoutModel",
          "state": {
            "_model_module": "@jupyter-widgets/base",
            "_model_module_version": "1.2.0",
            "_model_name": "LayoutModel",
            "_view_count": null,
            "_view_module": "@jupyter-widgets/base",
            "_view_module_version": "1.2.0",
            "_view_name": "LayoutView",
            "align_content": null,
            "align_items": null,
            "align_self": null,
            "border": null,
            "bottom": null,
            "display": null,
            "flex": null,
            "flex_flow": null,
            "grid_area": null,
            "grid_auto_columns": null,
            "grid_auto_flow": null,
            "grid_auto_rows": null,
            "grid_column": null,
            "grid_gap": null,
            "grid_row": null,
            "grid_template_areas": null,
            "grid_template_columns": null,
            "grid_template_rows": null,
            "height": null,
            "justify_content": null,
            "justify_items": null,
            "left": null,
            "margin": null,
            "max_height": null,
            "max_width": null,
            "min_height": null,
            "min_width": null,
            "object_fit": null,
            "object_position": null,
            "order": null,
            "overflow": null,
            "overflow_x": null,
            "overflow_y": null,
            "padding": null,
            "right": null,
            "top": null,
            "visibility": null,
            "width": null
          }
        },
        "6cc6808fb70e4b65b73eb0957c718d0d": {
          "model_module": "@jupyter-widgets/controls",
          "model_module_version": "1.5.0",
          "model_name": "ProgressStyleModel",
          "state": {
            "_model_module": "@jupyter-widgets/controls",
            "_model_module_version": "1.5.0",
            "_model_name": "ProgressStyleModel",
            "_view_count": null,
            "_view_module": "@jupyter-widgets/base",
            "_view_module_version": "1.2.0",
            "_view_name": "StyleView",
            "bar_color": null,
            "description_width": ""
          }
        },
        "71e1b00d6b5640ec8833f28f7cf38a4e": {
          "model_module": "@jupyter-widgets/controls",
          "model_module_version": "1.5.0",
          "model_name": "FloatProgressModel",
          "state": {
            "_dom_classes": [],
            "_model_module": "@jupyter-widgets/controls",
            "_model_module_version": "1.5.0",
            "_model_name": "FloatProgressModel",
            "_view_count": null,
            "_view_module": "@jupyter-widgets/controls",
            "_view_module_version": "1.5.0",
            "_view_name": "ProgressView",
            "bar_style": "success",
            "description": "",
            "description_tooltip": null,
            "layout": "IPY_MODEL_ba0455d248b64371a47f123a6a2a335a",
            "max": 918.3,
            "min": 0,
            "orientation": "horizontal",
            "style": "IPY_MODEL_a80961827b0c4332989d78eeaac77807",
            "value": 918.3
          }
        },
        "7e3d6678a74c42cfa2a8f83bfb76b29a": {
          "model_module": "@jupyter-widgets/controls",
          "model_module_version": "1.5.0",
          "model_name": "FloatProgressModel",
          "state": {
            "_dom_classes": [],
            "_model_module": "@jupyter-widgets/controls",
            "_model_module_version": "1.5.0",
            "_model_name": "FloatProgressModel",
            "_view_count": null,
            "_view_module": "@jupyter-widgets/controls",
            "_view_module_version": "1.5.0",
            "_view_name": "ProgressView",
            "bar_style": "success",
            "description": "",
            "description_tooltip": null,
            "layout": "IPY_MODEL_b97572c4aa7c4b1481f78d58fb046ead",
            "max": 1446.5,
            "min": 0,
            "orientation": "horizontal",
            "style": "IPY_MODEL_81f6536ecde74033aa11e8c8f94b3c94",
            "value": 1446.5
          }
        },
        "80eacf1809da4b408799cd9169ee01c6": {
          "model_module": "@jupyter-widgets/controls",
          "model_module_version": "1.5.0",
          "model_name": "HTMLModel",
          "state": {
            "_dom_classes": [],
            "_model_module": "@jupyter-widgets/controls",
            "_model_module_version": "1.5.0",
            "_model_name": "HTMLModel",
            "_view_count": null,
            "_view_module": "@jupyter-widgets/controls",
            "_view_module_version": "1.5.0",
            "_view_name": "HTMLView",
            "description": "",
            "description_tooltip": null,
            "layout": "IPY_MODEL_dbbef43c8e014f9bb4da40f4f8afb153",
            "placeholder": "​",
            "style": "IPY_MODEL_2a70ae1862a44e0aa3c9943d0fdea5a0",
            "value": ""
          }
        },
        "81f6536ecde74033aa11e8c8f94b3c94": {
          "model_module": "@jupyter-widgets/controls",
          "model_module_version": "1.5.0",
          "model_name": "ProgressStyleModel",
          "state": {
            "_model_module": "@jupyter-widgets/controls",
            "_model_module_version": "1.5.0",
            "_model_name": "ProgressStyleModel",
            "_view_count": null,
            "_view_module": "@jupyter-widgets/base",
            "_view_module_version": "1.2.0",
            "_view_name": "StyleView",
            "bar_color": null,
            "description_width": ""
          }
        },
        "862855018c444c52ac47589c13440dd6": {
          "model_module": "@jupyter-widgets/base",
          "model_module_version": "1.2.0",
          "model_name": "LayoutModel",
          "state": {
            "_model_module": "@jupyter-widgets/base",
            "_model_module_version": "1.2.0",
            "_model_name": "LayoutModel",
            "_view_count": null,
            "_view_module": "@jupyter-widgets/base",
            "_view_module_version": "1.2.0",
            "_view_name": "LayoutView",
            "align_content": null,
            "align_items": null,
            "align_self": null,
            "border": null,
            "bottom": null,
            "display": null,
            "flex": null,
            "flex_flow": null,
            "grid_area": null,
            "grid_auto_columns": null,
            "grid_auto_flow": null,
            "grid_auto_rows": null,
            "grid_column": null,
            "grid_gap": null,
            "grid_row": null,
            "grid_template_areas": null,
            "grid_template_columns": null,
            "grid_template_rows": null,
            "height": null,
            "justify_content": null,
            "justify_items": null,
            "left": null,
            "margin": null,
            "max_height": null,
            "max_width": null,
            "min_height": null,
            "min_width": null,
            "object_fit": null,
            "object_position": null,
            "order": null,
            "overflow": null,
            "overflow_x": null,
            "overflow_y": null,
            "padding": null,
            "right": null,
            "top": null,
            "visibility": null,
            "width": null
          }
        },
        "87339fcdae394fdbacc4c94079cb5fd0": {
          "model_module": "@jupyter-widgets/base",
          "model_module_version": "1.2.0",
          "model_name": "LayoutModel",
          "state": {
            "_model_module": "@jupyter-widgets/base",
            "_model_module_version": "1.2.0",
            "_model_name": "LayoutModel",
            "_view_count": null,
            "_view_module": "@jupyter-widgets/base",
            "_view_module_version": "1.2.0",
            "_view_name": "LayoutView",
            "align_content": null,
            "align_items": null,
            "align_self": null,
            "border": null,
            "bottom": null,
            "display": null,
            "flex": null,
            "flex_flow": null,
            "grid_area": null,
            "grid_auto_columns": null,
            "grid_auto_flow": null,
            "grid_auto_rows": null,
            "grid_column": null,
            "grid_gap": null,
            "grid_row": null,
            "grid_template_areas": null,
            "grid_template_columns": null,
            "grid_template_rows": null,
            "height": null,
            "justify_content": null,
            "justify_items": null,
            "left": null,
            "margin": null,
            "max_height": null,
            "max_width": null,
            "min_height": null,
            "min_width": null,
            "object_fit": null,
            "object_position": null,
            "order": null,
            "overflow": null,
            "overflow_x": null,
            "overflow_y": null,
            "padding": null,
            "right": null,
            "top": null,
            "visibility": null,
            "width": null
          }
        },
        "914dfb04897b4e94abdd8bb14f1f40c4": {
          "model_module": "@jupyter-widgets/controls",
          "model_module_version": "1.5.0",
          "model_name": "DescriptionStyleModel",
          "state": {
            "_model_module": "@jupyter-widgets/controls",
            "_model_module_version": "1.5.0",
            "_model_name": "DescriptionStyleModel",
            "_view_count": null,
            "_view_module": "@jupyter-widgets/base",
            "_view_module_version": "1.2.0",
            "_view_name": "StyleView",
            "description_width": ""
          }
        },
        "9222e6bbfdaa4e6798fe7aa0b079491c": {
          "model_module": "@jupyter-widgets/controls",
          "model_module_version": "1.5.0",
          "model_name": "DescriptionStyleModel",
          "state": {
            "_model_module": "@jupyter-widgets/controls",
            "_model_module_version": "1.5.0",
            "_model_name": "DescriptionStyleModel",
            "_view_count": null,
            "_view_module": "@jupyter-widgets/base",
            "_view_module_version": "1.2.0",
            "_view_name": "StyleView",
            "description_width": ""
          }
        },
        "9329ea0cf29d4061848b3b66e7cc7beb": {
          "model_module": "@jupyter-widgets/controls",
          "model_module_version": "1.5.0",
          "model_name": "DescriptionStyleModel",
          "state": {
            "_model_module": "@jupyter-widgets/controls",
            "_model_module_version": "1.5.0",
            "_model_name": "DescriptionStyleModel",
            "_view_count": null,
            "_view_module": "@jupyter-widgets/base",
            "_view_module_version": "1.2.0",
            "_view_name": "StyleView",
            "description_width": ""
          }
        },
        "959cbcb179fd49eca986506c672dbbb7": {
          "model_module": "@jupyter-widgets/controls",
          "model_module_version": "1.5.0",
          "model_name": "HTMLModel",
          "state": {
            "_dom_classes": [],
            "_model_module": "@jupyter-widgets/controls",
            "_model_module_version": "1.5.0",
            "_model_name": "HTMLModel",
            "_view_count": null,
            "_view_module": "@jupyter-widgets/controls",
            "_view_module_version": "1.5.0",
            "_view_name": "HTMLView",
            "description": "",
            "description_tooltip": null,
            "layout": "IPY_MODEL_bc0f858e12b2481e9beba5dd71143c55",
            "placeholder": "​",
            "style": "IPY_MODEL_f3dc0d62888a42a18ab7f12bc6fa8eb2",
            "value": " 5.0/4.6 [00:00&lt;00:00, 24.54M/s]"
          }
        },
        "9a2b6e054f3e450b80b899a3e6ca7054": {
          "model_module": "@jupyter-widgets/controls",
          "model_module_version": "1.5.0",
          "model_name": "HTMLModel",
          "state": {
            "_dom_classes": [],
            "_model_module": "@jupyter-widgets/controls",
            "_model_module_version": "1.5.0",
            "_model_name": "HTMLModel",
            "_view_count": null,
            "_view_module": "@jupyter-widgets/controls",
            "_view_module_version": "1.5.0",
            "_view_name": "HTMLView",
            "description": "",
            "description_tooltip": null,
            "layout": "IPY_MODEL_d8264a9fcd2b4ef4894fe4078bace184",
            "placeholder": "​",
            "style": "IPY_MODEL_61d7a65dad4a435eadc74b0bd764805b",
            "value": "109%"
          }
        },
        "a1c9d75add7344b5a9c5ed2d5299f0f2": {
          "model_module": "@jupyter-widgets/base",
          "model_module_version": "1.2.0",
          "model_name": "LayoutModel",
          "state": {
            "_model_module": "@jupyter-widgets/base",
            "_model_module_version": "1.2.0",
            "_model_name": "LayoutModel",
            "_view_count": null,
            "_view_module": "@jupyter-widgets/base",
            "_view_module_version": "1.2.0",
            "_view_name": "LayoutView",
            "align_content": null,
            "align_items": null,
            "align_self": null,
            "border": null,
            "bottom": null,
            "display": null,
            "flex": null,
            "flex_flow": null,
            "grid_area": null,
            "grid_auto_columns": null,
            "grid_auto_flow": null,
            "grid_auto_rows": null,
            "grid_column": null,
            "grid_gap": null,
            "grid_row": null,
            "grid_template_areas": null,
            "grid_template_columns": null,
            "grid_template_rows": null,
            "height": null,
            "justify_content": null,
            "justify_items": null,
            "left": null,
            "margin": null,
            "max_height": null,
            "max_width": null,
            "min_height": null,
            "min_width": null,
            "object_fit": null,
            "object_position": null,
            "order": null,
            "overflow": null,
            "overflow_x": null,
            "overflow_y": null,
            "padding": null,
            "right": null,
            "top": null,
            "visibility": null,
            "width": null
          }
        },
        "a4424c0277f0422a9cb04915a3c4b322": {
          "model_module": "@jupyter-widgets/controls",
          "model_module_version": "1.5.0",
          "model_name": "HBoxModel",
          "state": {
            "_dom_classes": [],
            "_model_module": "@jupyter-widgets/controls",
            "_model_module_version": "1.5.0",
            "_model_name": "HBoxModel",
            "_view_count": null,
            "_view_module": "@jupyter-widgets/controls",
            "_view_module_version": "1.5.0",
            "_view_name": "HBoxView",
            "box_style": "",
            "children": [
              "IPY_MODEL_9a2b6e054f3e450b80b899a3e6ca7054",
              "IPY_MODEL_5422e24be8df4603995a2f01373978c4",
              "IPY_MODEL_959cbcb179fd49eca986506c672dbbb7"
            ],
            "layout": "IPY_MODEL_521d5b35b0074fa2a03b7db2c675f087"
          }
        },
        "a6597901f5104edcbfefbf80c05dd7df": {
          "model_module": "@jupyter-widgets/controls",
          "model_module_version": "1.5.0",
          "model_name": "HBoxModel",
          "state": {
            "_dom_classes": [],
            "_model_module": "@jupyter-widgets/controls",
            "_model_module_version": "1.5.0",
            "_model_name": "HBoxModel",
            "_view_count": null,
            "_view_module": "@jupyter-widgets/controls",
            "_view_module_version": "1.5.0",
            "_view_name": "HBoxView",
            "box_style": "",
            "children": [
              "IPY_MODEL_ec28e8d0792545b3b01a4d022a1f1a1d",
              "IPY_MODEL_7e3d6678a74c42cfa2a8f83bfb76b29a",
              "IPY_MODEL_bd74c7b52e274799aaa51438fba9de08"
            ],
            "layout": "IPY_MODEL_2224b1b3209549009b60b2ff257ed989"
          }
        },
        "a80961827b0c4332989d78eeaac77807": {
          "model_module": "@jupyter-widgets/controls",
          "model_module_version": "1.5.0",
          "model_name": "ProgressStyleModel",
          "state": {
            "_model_module": "@jupyter-widgets/controls",
            "_model_module_version": "1.5.0",
            "_model_name": "ProgressStyleModel",
            "_view_count": null,
            "_view_module": "@jupyter-widgets/base",
            "_view_module_version": "1.2.0",
            "_view_name": "StyleView",
            "bar_color": null,
            "description_width": ""
          }
        },
        "aa347e01c53f4851867fc5454b3468de": {
          "model_module": "@jupyter-widgets/controls",
          "model_module_version": "1.5.0",
          "model_name": "HTMLModel",
          "state": {
            "_dom_classes": [],
            "_model_module": "@jupyter-widgets/controls",
            "_model_module_version": "1.5.0",
            "_model_name": "HTMLModel",
            "_view_count": null,
            "_view_module": "@jupyter-widgets/controls",
            "_view_module_version": "1.5.0",
            "_view_name": "HTMLView",
            "description": "",
            "description_tooltip": null,
            "layout": "IPY_MODEL_87339fcdae394fdbacc4c94079cb5fd0",
            "placeholder": "​",
            "style": "IPY_MODEL_6344cde318b842999307b258a35a6abb",
            "value": " 920.0/? [00:04&lt;00:00, 230.33M/s]"
          }
        },
        "b97572c4aa7c4b1481f78d58fb046ead": {
          "model_module": "@jupyter-widgets/base",
          "model_module_version": "1.2.0",
          "model_name": "LayoutModel",
          "state": {
            "_model_module": "@jupyter-widgets/base",
            "_model_module_version": "1.2.0",
            "_model_name": "LayoutModel",
            "_view_count": null,
            "_view_module": "@jupyter-widgets/base",
            "_view_module_version": "1.2.0",
            "_view_name": "LayoutView",
            "align_content": null,
            "align_items": null,
            "align_self": null,
            "border": null,
            "bottom": null,
            "display": null,
            "flex": null,
            "flex_flow": null,
            "grid_area": null,
            "grid_auto_columns": null,
            "grid_auto_flow": null,
            "grid_auto_rows": null,
            "grid_column": null,
            "grid_gap": null,
            "grid_row": null,
            "grid_template_areas": null,
            "grid_template_columns": null,
            "grid_template_rows": null,
            "height": null,
            "justify_content": null,
            "justify_items": null,
            "left": null,
            "margin": null,
            "max_height": null,
            "max_width": null,
            "min_height": null,
            "min_width": null,
            "object_fit": null,
            "object_position": null,
            "order": null,
            "overflow": null,
            "overflow_x": null,
            "overflow_y": null,
            "padding": null,
            "right": null,
            "top": null,
            "visibility": null,
            "width": null
          }
        },
        "ba0455d248b64371a47f123a6a2a335a": {
          "model_module": "@jupyter-widgets/base",
          "model_module_version": "1.2.0",
          "model_name": "LayoutModel",
          "state": {
            "_model_module": "@jupyter-widgets/base",
            "_model_module_version": "1.2.0",
            "_model_name": "LayoutModel",
            "_view_count": null,
            "_view_module": "@jupyter-widgets/base",
            "_view_module_version": "1.2.0",
            "_view_name": "LayoutView",
            "align_content": null,
            "align_items": null,
            "align_self": null,
            "border": null,
            "bottom": null,
            "display": null,
            "flex": null,
            "flex_flow": null,
            "grid_area": null,
            "grid_auto_columns": null,
            "grid_auto_flow": null,
            "grid_auto_rows": null,
            "grid_column": null,
            "grid_gap": null,
            "grid_row": null,
            "grid_template_areas": null,
            "grid_template_columns": null,
            "grid_template_rows": null,
            "height": null,
            "justify_content": null,
            "justify_items": null,
            "left": null,
            "margin": null,
            "max_height": null,
            "max_width": null,
            "min_height": null,
            "min_width": null,
            "object_fit": null,
            "object_position": null,
            "order": null,
            "overflow": null,
            "overflow_x": null,
            "overflow_y": null,
            "padding": null,
            "right": null,
            "top": null,
            "visibility": null,
            "width": null
          }
        },
        "bc0f858e12b2481e9beba5dd71143c55": {
          "model_module": "@jupyter-widgets/base",
          "model_module_version": "1.2.0",
          "model_name": "LayoutModel",
          "state": {
            "_model_module": "@jupyter-widgets/base",
            "_model_module_version": "1.2.0",
            "_model_name": "LayoutModel",
            "_view_count": null,
            "_view_module": "@jupyter-widgets/base",
            "_view_module_version": "1.2.0",
            "_view_name": "LayoutView",
            "align_content": null,
            "align_items": null,
            "align_self": null,
            "border": null,
            "bottom": null,
            "display": null,
            "flex": null,
            "flex_flow": null,
            "grid_area": null,
            "grid_auto_columns": null,
            "grid_auto_flow": null,
            "grid_auto_rows": null,
            "grid_column": null,
            "grid_gap": null,
            "grid_row": null,
            "grid_template_areas": null,
            "grid_template_columns": null,
            "grid_template_rows": null,
            "height": null,
            "justify_content": null,
            "justify_items": null,
            "left": null,
            "margin": null,
            "max_height": null,
            "max_width": null,
            "min_height": null,
            "min_width": null,
            "object_fit": null,
            "object_position": null,
            "order": null,
            "overflow": null,
            "overflow_x": null,
            "overflow_y": null,
            "padding": null,
            "right": null,
            "top": null,
            "visibility": null,
            "width": null
          }
        },
        "bd74c7b52e274799aaa51438fba9de08": {
          "model_module": "@jupyter-widgets/controls",
          "model_module_version": "1.5.0",
          "model_name": "HTMLModel",
          "state": {
            "_dom_classes": [],
            "_model_module": "@jupyter-widgets/controls",
            "_model_module_version": "1.5.0",
            "_model_name": "HTMLModel",
            "_view_count": null,
            "_view_module": "@jupyter-widgets/controls",
            "_view_module_version": "1.5.0",
            "_view_name": "HTMLView",
            "description": "",
            "description_tooltip": null,
            "layout": "IPY_MODEL_2dc2eea426834ea0bc5d2bbbf1edea8f",
            "placeholder": "​",
            "style": "IPY_MODEL_c2142f190fe849d592ff5095d93bb451",
            "value": " 1450.0/? [00:07&lt;00:00, 267.52M/s]"
          }
        },
        "c2142f190fe849d592ff5095d93bb451": {
          "model_module": "@jupyter-widgets/controls",
          "model_module_version": "1.5.0",
          "model_name": "DescriptionStyleModel",
          "state": {
            "_model_module": "@jupyter-widgets/controls",
            "_model_module_version": "1.5.0",
            "_model_name": "DescriptionStyleModel",
            "_view_count": null,
            "_view_module": "@jupyter-widgets/base",
            "_view_module_version": "1.2.0",
            "_view_name": "StyleView",
            "description_width": ""
          }
        },
        "caa3d867b1a54103bee65be9e8eed083": {
          "model_module": "@jupyter-widgets/base",
          "model_module_version": "1.2.0",
          "model_name": "LayoutModel",
          "state": {
            "_model_module": "@jupyter-widgets/base",
            "_model_module_version": "1.2.0",
            "_model_name": "LayoutModel",
            "_view_count": null,
            "_view_module": "@jupyter-widgets/base",
            "_view_module_version": "1.2.0",
            "_view_name": "LayoutView",
            "align_content": null,
            "align_items": null,
            "align_self": null,
            "border": null,
            "bottom": null,
            "display": null,
            "flex": null,
            "flex_flow": null,
            "grid_area": null,
            "grid_auto_columns": null,
            "grid_auto_flow": null,
            "grid_auto_rows": null,
            "grid_column": null,
            "grid_gap": null,
            "grid_row": null,
            "grid_template_areas": null,
            "grid_template_columns": null,
            "grid_template_rows": null,
            "height": null,
            "justify_content": null,
            "justify_items": null,
            "left": null,
            "margin": null,
            "max_height": null,
            "max_width": null,
            "min_height": null,
            "min_width": null,
            "object_fit": null,
            "object_position": null,
            "order": null,
            "overflow": null,
            "overflow_x": null,
            "overflow_y": null,
            "padding": null,
            "right": null,
            "top": null,
            "visibility": null,
            "width": null
          }
        },
        "d14155694bdb45b7b20cb933689e436a": {
          "model_module": "@jupyter-widgets/base",
          "model_module_version": "1.2.0",
          "model_name": "LayoutModel",
          "state": {
            "_model_module": "@jupyter-widgets/base",
            "_model_module_version": "1.2.0",
            "_model_name": "LayoutModel",
            "_view_count": null,
            "_view_module": "@jupyter-widgets/base",
            "_view_module_version": "1.2.0",
            "_view_name": "LayoutView",
            "align_content": null,
            "align_items": null,
            "align_self": null,
            "border": null,
            "bottom": null,
            "display": null,
            "flex": null,
            "flex_flow": null,
            "grid_area": null,
            "grid_auto_columns": null,
            "grid_auto_flow": null,
            "grid_auto_rows": null,
            "grid_column": null,
            "grid_gap": null,
            "grid_row": null,
            "grid_template_areas": null,
            "grid_template_columns": null,
            "grid_template_rows": null,
            "height": null,
            "justify_content": null,
            "justify_items": null,
            "left": null,
            "margin": null,
            "max_height": null,
            "max_width": null,
            "min_height": null,
            "min_width": null,
            "object_fit": null,
            "object_position": null,
            "order": null,
            "overflow": null,
            "overflow_x": null,
            "overflow_y": null,
            "padding": null,
            "right": null,
            "top": null,
            "visibility": null,
            "width": null
          }
        },
        "d8264a9fcd2b4ef4894fe4078bace184": {
          "model_module": "@jupyter-widgets/base",
          "model_module_version": "1.2.0",
          "model_name": "LayoutModel",
          "state": {
            "_model_module": "@jupyter-widgets/base",
            "_model_module_version": "1.2.0",
            "_model_name": "LayoutModel",
            "_view_count": null,
            "_view_module": "@jupyter-widgets/base",
            "_view_module_version": "1.2.0",
            "_view_name": "LayoutView",
            "align_content": null,
            "align_items": null,
            "align_self": null,
            "border": null,
            "bottom": null,
            "display": null,
            "flex": null,
            "flex_flow": null,
            "grid_area": null,
            "grid_auto_columns": null,
            "grid_auto_flow": null,
            "grid_auto_rows": null,
            "grid_column": null,
            "grid_gap": null,
            "grid_row": null,
            "grid_template_areas": null,
            "grid_template_columns": null,
            "grid_template_rows": null,
            "height": null,
            "justify_content": null,
            "justify_items": null,
            "left": null,
            "margin": null,
            "max_height": null,
            "max_width": null,
            "min_height": null,
            "min_width": null,
            "object_fit": null,
            "object_position": null,
            "order": null,
            "overflow": null,
            "overflow_x": null,
            "overflow_y": null,
            "padding": null,
            "right": null,
            "top": null,
            "visibility": null,
            "width": null
          }
        },
        "dbbef43c8e014f9bb4da40f4f8afb153": {
          "model_module": "@jupyter-widgets/base",
          "model_module_version": "1.2.0",
          "model_name": "LayoutModel",
          "state": {
            "_model_module": "@jupyter-widgets/base",
            "_model_module_version": "1.2.0",
            "_model_name": "LayoutModel",
            "_view_count": null,
            "_view_module": "@jupyter-widgets/base",
            "_view_module_version": "1.2.0",
            "_view_name": "LayoutView",
            "align_content": null,
            "align_items": null,
            "align_self": null,
            "border": null,
            "bottom": null,
            "display": null,
            "flex": null,
            "flex_flow": null,
            "grid_area": null,
            "grid_auto_columns": null,
            "grid_auto_flow": null,
            "grid_auto_rows": null,
            "grid_column": null,
            "grid_gap": null,
            "grid_row": null,
            "grid_template_areas": null,
            "grid_template_columns": null,
            "grid_template_rows": null,
            "height": null,
            "justify_content": null,
            "justify_items": null,
            "left": null,
            "margin": null,
            "max_height": null,
            "max_width": null,
            "min_height": null,
            "min_width": null,
            "object_fit": null,
            "object_position": null,
            "order": null,
            "overflow": null,
            "overflow_x": null,
            "overflow_y": null,
            "padding": null,
            "right": null,
            "top": null,
            "visibility": null,
            "width": null
          }
        },
        "ec28e8d0792545b3b01a4d022a1f1a1d": {
          "model_module": "@jupyter-widgets/controls",
          "model_module_version": "1.5.0",
          "model_name": "HTMLModel",
          "state": {
            "_dom_classes": [],
            "_model_module": "@jupyter-widgets/controls",
            "_model_module_version": "1.5.0",
            "_model_name": "HTMLModel",
            "_view_count": null,
            "_view_module": "@jupyter-widgets/controls",
            "_view_module_version": "1.5.0",
            "_view_name": "HTMLView",
            "description": "",
            "description_tooltip": null,
            "layout": "IPY_MODEL_63f5b105e88d477eb33220999eb15e23",
            "placeholder": "​",
            "style": "IPY_MODEL_9329ea0cf29d4061848b3b66e7cc7beb",
            "value": ""
          }
        },
        "f3dc0d62888a42a18ab7f12bc6fa8eb2": {
          "model_module": "@jupyter-widgets/controls",
          "model_module_version": "1.5.0",
          "model_name": "DescriptionStyleModel",
          "state": {
            "_model_module": "@jupyter-widgets/controls",
            "_model_module_version": "1.5.0",
            "_model_name": "DescriptionStyleModel",
            "_view_count": null,
            "_view_module": "@jupyter-widgets/base",
            "_view_module_version": "1.2.0",
            "_view_name": "StyleView",
            "description_width": ""
          }
        },
        "f4326a8fb13f485aad64d75ae661e75a": {
          "model_module": "@jupyter-widgets/controls",
          "model_module_version": "1.5.0",
          "model_name": "FloatProgressModel",
          "state": {
            "_dom_classes": [],
            "_model_module": "@jupyter-widgets/controls",
            "_model_module_version": "1.5.0",
            "_model_name": "FloatProgressModel",
            "_view_count": null,
            "_view_module": "@jupyter-widgets/controls",
            "_view_module_version": "1.5.0",
            "_view_name": "ProgressView",
            "bar_style": "success",
            "description": "",
            "description_tooltip": null,
            "layout": "IPY_MODEL_3cd6902372a2411f827f7032ac1add8f",
            "max": 7.5,
            "min": 0,
            "orientation": "horizontal",
            "style": "IPY_MODEL_2a9c00bed2874baca827a9517ffda29c",
            "value": 7.5
          }
        }
      }
    }
  },
  "nbformat": 4,
  "nbformat_minor": 5
}